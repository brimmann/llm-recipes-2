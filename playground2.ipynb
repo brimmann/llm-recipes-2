{
 "cells": [
  {
   "cell_type": "code",
   "execution_count": 1,
   "id": "75722204",
   "metadata": {},
   "outputs": [
    {
     "name": "stderr",
     "output_type": "stream",
     "text": [
      "/home/brimmann/works/llm-recipes-2/.venv/lib/python3.9/site-packages/pydantic/_internal/_generate_schema.py:2249: UnsupportedFieldAttributeWarning: The 'repr' attribute with value False was provided to the `Field()` function, which has no effect in the context it was used. 'repr' is field-specific metadata, and can only be attached to a model field using `Annotated` metadata or by assignment. This may have happened because an `Annotated` type alias using the `type` statement was used, or if the `Field()` function was attached to a single member of a union type.\n",
      "  warnings.warn(\n",
      "/home/brimmann/works/llm-recipes-2/.venv/lib/python3.9/site-packages/pydantic/_internal/_generate_schema.py:2249: UnsupportedFieldAttributeWarning: The 'frozen' attribute with value True was provided to the `Field()` function, which has no effect in the context it was used. 'frozen' is field-specific metadata, and can only be attached to a model field using `Annotated` metadata or by assignment. This may have happened because an `Annotated` type alias using the `type` statement was used, or if the `Field()` function was attached to a single member of a union type.\n",
      "  warnings.warn(\n",
      "/home/brimmann/works/llm-recipes-2/models/checkpoint_handler.py:7: DeprecationWarning: `torch.distributed._shard.checkpoint` will be deprecated, use `torch.distributed.checkpoint` instead\n",
      "  import torch.distributed._shard.checkpoint as dist_cp\n",
      "/home/brimmann/works/llm-recipes-2/models/tools.py:5: UserWarning: pkg_resources is deprecated as an API. See https://setuptools.pypa.io/en/latest/pkg_resources.html. The pkg_resources package is slated for removal as early as 2025-11-30. Refrain from using this package or pin to Setuptools<81.\n",
      "  from pkg_resources import packaging\n"
     ]
    }
   ],
   "source": [
    "from train.train_utils import train\n",
    "from configs.configs_utils import update_config\n",
    "from data.data_utils import (get_dataloader, get_distillation_dataloader)\n",
    "from train.tools import (setup, setup_environ_flags, clear_gpu_cache)\n",
    "from models.models_utils import  get_optimizer\n",
    "from models.xrag_models_utils import get_xrag_models\n",
    "from data.data_utils import get_dataloader\n",
    "import torch"
   ]
  },
  {
   "cell_type": "code",
   "execution_count": 6,
   "id": "d6b5372b",
   "metadata": {},
   "outputs": [],
   "source": [
    "from configs.datasets import dataset as DatasetConfig\n",
    "from configs.training import train_config as TrainConfig\n",
    "from configs.distillation import distillation_config as DistillationConfig\n",
    "from configs.fsdp import fsdp_config as FsdpConfig\n",
    "\n",
    "dataset_config = DatasetConfig()\n",
    "train_config = TrainConfig()\n",
    "distill_config = DistillationConfig()\n",
    "fsdp_config = DistillationConfig()\n",
    "train_config.model_name = \"google/gemma-3-1b-it\"\n",
    "distill_config.model_name = \"Hannibal046/xrag-7b\"\n",
    "train_config.batch_size_training = 1\n",
    "train_config.distillation = True\n",
    "train_config.num_workers_dataloader = 1\n",
    "dataset_config.file = \"data/loaders/squad-v2-sampled.py\""
   ]
  },
  {
   "cell_type": "code",
   "execution_count": 3,
   "id": "8384ae29",
   "metadata": {},
   "outputs": [
    {
     "name": "stderr",
     "output_type": "stream",
     "text": [
      "`torch_dtype` is deprecated! Use `dtype` instead!\n"
     ]
    },
    {
     "data": {
      "application/vnd.jupyter.widget-view+json": {
       "model_id": "8ec98cf7586d426293578e50c132573a",
       "version_major": 2,
       "version_minor": 0
      },
      "text/plain": [
       "Loading checkpoint shards:   0%|          | 0/3 [00:00<?, ?it/s]"
      ]
     },
     "metadata": {},
     "output_type": "display_data"
    },
    {
     "name": "stderr",
     "output_type": "stream",
     "text": [
      "Some weights of XGemmaForCausalLM were not initialized from the model checkpoint at google/gemma-3-1b-it and are newly initialized: ['projector.projector.0.bias', 'projector.projector.0.weight', 'projector.projector.2.bias', 'projector.projector.2.weight']\n",
      "You should probably TRAIN this model on a down-stream task to be able to use it for predictions and inference.\n"
     ]
    },
    {
     "name": "stdout",
     "output_type": "stream",
     "text": [
      "Trainable parameters in student model:\n",
      "projector.projector.0.weight\n",
      "projector.projector.0.bias\n",
      "projector.projector.2.weight\n",
      "projector.projector.2.bias\n"
     ]
    },
    {
     "name": "stderr",
     "output_type": "stream",
     "text": [
      "The new embeddings will be initialized from a multivariate normal distribution that has old embeddings' mean and covariance. As described in this article: https://nlp.stanford.edu/~johnhew/vocab-expansion.html. To disable this, use `mean_resizing=False`\n"
     ]
    },
    {
     "name": "stdout",
     "output_type": "stream",
     "text": [
      "initializing xRAG distillation...\n"
     ]
    }
   ],
   "source": [
    "student_tokenizer, teacher_tokenizer, model = get_xrag_models()"
   ]
  },
  {
   "cell_type": "code",
   "execution_count": 7,
   "id": "2749c4e7",
   "metadata": {},
   "outputs": [
    {
     "name": "stdout",
     "output_type": "stream",
     "text": [
      "--> Training Set Length = 1000\n",
      "--> Validation Set Length = 250\n",
      "--> Training Set Length = 1000\n",
      "--> Validation Set Length = 250\n"
     ]
    }
   ],
   "source": [
    "teacher_train_dataloader, teacher_eval_dataloader = get_dataloader(dataset_config, train_config, teacher_tokenizer, 0, distill_config)\n",
    "student_train_dataloader, student_eval_dataloader = get_dataloader(dataset_config, train_config, student_tokenizer, 0, distill_config)"
   ]
  },
  {
   "cell_type": "code",
   "execution_count": 8,
   "id": "202eba27",
   "metadata": {},
   "outputs": [
    {
     "name": "stdout",
     "output_type": "stream",
     "text": [
      "{'input_ids': tensor([[  733, 16289, 28793, 24316, 28747, 32001, 28725,   690,   835,  2825,\n",
      "         28747, 28792, 28748, 16289, 28793,  8712,  2372,  9782]]), 'attention_mask': tensor([[1, 1, 1, 1, 1, 1, 1, 1, 1, 1, 1, 1, 1, 1, 1, 1, 1, 1]]), 'retrieval_embeds': tensor([[ 4.0625,  0.7031,  1.4453,  ...,  5.5312, -2.8750, -0.6367]]), 'labels': tensor([[-100, -100, -100, -100, -100, -100, -100, -100, -100, -100, -100, -100,\n",
      "         -100, -100, -100, 8712, 2372, 9782]])}\n",
      "{'input_ids': tensor([[  733, 16289, 28793, 24316, 28747, 32001, 28725,   690,   835,  2825,\n",
      "         28747, 28792, 28748, 16289, 28793, 28705, 28740, 28723,  6711,   374,\n",
      "          6899,  2970,  3368,    13,    13, 28750, 28723, 10668,  2970,  3368,\n",
      "            13,    13, 28770, 28723,  3187,   645,  1060,    13,    13, 28781,\n",
      "         28723,  3187,   645, 10228,    13,    13, 28782, 28723,  3187,   645,\n",
      "          6370,    13,    13, 28784, 28723,  3187,   645, 14636,    13,    13,\n",
      "         28787, 28723,  3187,   645,   701, 13877,    13,    13, 28783, 28723,\n",
      "          3187,   645,  3656,   555,    13,    13, 28774, 28723,  3187,   645,\n",
      "         24824,    13,    13, 28740, 28734, 28723,  3187,   645,  7215, 28713,\n",
      "            13,    13, 28740, 28740, 28723,  3187,   645,  4051,    13,    13,\n",
      "         28740, 28750, 28723,  3187,   645,   716,   374,  1303,    13,    13,\n",
      "         28740, 28770, 28723,  3187,   645,  4759,    13,    13, 28740, 28781,\n",
      "         28723,  3187,   645, 15262,    13,    13, 28740, 28782, 28723,  3187,\n",
      "           645,   701, 13877,   354,  1488,  2677,    13,    13, 28740, 28784,\n",
      "         28723,  3187,   645,   701, 13877,   354,  2855,  3202,    13,    13,\n",
      "         28740, 28787, 28723,  3187,   645,   701, 13877,   354, 10837,  3611,\n",
      "            13,    13, 28740, 28783, 28723,  3187,   645,   701, 13877,   354,\n",
      "           526,   309,  1074,    13,    13, 28740, 28774, 28723,  3187,   645,\n",
      "           701, 13877,   354,  4705,   288,    13,    13, 28750, 28734, 28723,\n",
      "          3187,   645,   701, 13877,   354, 10837,  3611,    13,    13, 28750,\n",
      "         28740, 28723,  3187,   645,   701, 13877,   354,   526,   309,  1074,\n",
      "            13,    13, 28750, 28750, 28723,  3187]]), 'attention_mask': tensor([[1, 1, 1, 1, 1, 1, 1, 1, 1, 1, 1, 1, 1, 1, 1, 1, 1, 1, 1, 1, 1, 1, 1, 1,\n",
      "         1, 1, 1, 1, 1, 1, 1, 1, 1, 1, 1, 1, 1, 1, 1, 1, 1, 1, 1, 1, 1, 1, 1, 1,\n",
      "         1, 1, 1, 1, 1, 1, 1, 1, 1, 1, 1, 1, 1, 1, 1, 1, 1, 1, 1, 1, 1, 1, 1, 1,\n",
      "         1, 1, 1, 1, 1, 1, 1, 1, 1, 1, 1, 1, 1, 1, 1, 1, 1, 1, 1, 1, 1, 1, 1, 1,\n",
      "         1, 1, 1, 1, 1, 1, 1, 1, 1, 1, 1, 1, 1, 1, 1, 1, 1, 1, 1, 1, 1, 1, 1, 1,\n",
      "         1, 1, 1, 1, 1, 1, 1, 1, 1, 1, 1, 1, 1, 1, 1, 1, 1, 1, 1, 1, 1, 1, 1, 1,\n",
      "         1, 1, 1, 1, 1, 1, 1, 1, 1, 1, 1, 1, 1, 1, 1, 1, 1, 1, 1, 1, 1, 1, 1, 1,\n",
      "         1, 1, 1, 1, 1, 1, 1, 1, 1, 1, 1, 1, 1, 1, 1, 1, 1, 1, 1, 1, 1, 1, 1, 1,\n",
      "         1, 1, 1, 1, 1, 1, 1, 1, 1, 1, 1, 1, 1, 1, 1, 1, 1, 1, 1, 1, 1, 1, 1, 1]]), 'retrieval_embeds': tensor([[ 3.5312, -4.6562,  1.0156,  ...,  3.1094, -2.4375, -1.0156]]), 'labels': tensor([[ -100,  -100,  -100,  -100,  -100,  -100,  -100,  -100,  -100,  -100,\n",
      "          -100,  -100,  -100,  -100,  -100, 28705, 28740, 28723,  6711,   374,\n",
      "          6899,  2970,  3368,    13,    13, 28750, 28723, 10668,  2970,  3368,\n",
      "            13,    13, 28770, 28723,  3187,   645,  1060,    13,    13, 28781,\n",
      "         28723,  3187,   645, 10228,    13,    13, 28782, 28723,  3187,   645,\n",
      "          6370,    13,    13, 28784, 28723,  3187,   645, 14636,    13,    13,\n",
      "         28787, 28723,  3187,   645,   701, 13877,    13,    13, 28783, 28723,\n",
      "          3187,   645,  3656,   555,    13,    13, 28774, 28723,  3187,   645,\n",
      "         24824,    13,    13, 28740, 28734, 28723,  3187,   645,  7215, 28713,\n",
      "            13,    13, 28740, 28740, 28723,  3187,   645,  4051,    13,    13,\n",
      "         28740, 28750, 28723,  3187,   645,   716,   374,  1303,    13,    13,\n",
      "         28740, 28770, 28723,  3187,   645,  4759,    13,    13, 28740, 28781,\n",
      "         28723,  3187,   645, 15262,    13,    13, 28740, 28782, 28723,  3187,\n",
      "           645,   701, 13877,   354,  1488,  2677,    13,    13, 28740, 28784,\n",
      "         28723,  3187,   645,   701, 13877,   354,  2855,  3202,    13,    13,\n",
      "         28740, 28787, 28723,  3187,   645,   701, 13877,   354, 10837,  3611,\n",
      "            13,    13, 28740, 28783, 28723,  3187,   645,   701, 13877,   354,\n",
      "           526,   309,  1074,    13,    13, 28740, 28774, 28723,  3187,   645,\n",
      "           701, 13877,   354,  4705,   288,    13,    13, 28750, 28734, 28723,\n",
      "          3187,   645,   701, 13877,   354, 10837,  3611,    13,    13, 28750,\n",
      "         28740, 28723,  3187,   645,   701, 13877,   354,   526,   309,  1074,\n",
      "            13,    13, 28750, 28750, 28723,  3187]])}\n",
      "{'input_ids': tensor([[  733, 16289, 28793, 24316, 28747, 32001, 28725,   690,   835,  2825,\n",
      "         28747, 28792, 28748, 16289, 28793,   387,   415, 13729, 13846,   302,\n",
      "          6505,   294,   269,  1520, 28742, 28713,  2418,   266,   302, 18293,\n",
      "         28725,   690,   403,  7368,   297, 28705, 28740, 28740, 28750, 28787,\n",
      "         28725,   403, 12575,  1307,   297,  3401, 28723,    13,    13, 28733,\n",
      "           415, 13729, 13846,   302,  6505,   294,   269,  1520, 28742, 28713,\n",
      "          5522,  2366,   846,  1063, 28725,   690,   403,  7368,   297, 28705,\n",
      "         28740, 28740, 28750, 28787, 28725,   403,   835, 12575,  1307,   297,\n",
      "          3401, 28723,    13,    13, 28733,   415, 13729, 13846,   302,  6505,\n",
      "           294,   269,  1520, 28742, 28713,  5545,   294, 28725,   690,   403,\n",
      "          7368,   297, 28705, 28740, 28740, 28782, 28734, 28725,   403,   835,\n",
      "         12575,  1307,   297,  3401, 28723,    13,    13, 28733,   415, 13729,\n",
      "         13846,   302,  6505,   294,   269,  1520, 28742, 28713, 12051,  1063,\n",
      "         28725,   690,   403,  7368,   297, 28705, 28740, 28740, 28782, 28734,\n",
      "         28725,   403,   835, 12575,  1307,   297,  3401, 28723,    13,    13,\n",
      "         28733,   415, 13729, 13846,   302,  6505,   294,   269,  1520, 28742,\n",
      "         28713,   976,   631,  1916, 28725,   690,   403,  7368,   297, 28705,\n",
      "         28740, 28740, 28784, 28734, 28725,   403,   835, 12575,  1307,   297,\n",
      "          3401, 28723,    13,    13, 28733,   415, 13729, 13846,   302,  6505,\n",
      "           294,   269,  1520, 28742, 28713, 17221,  2161, 28725,   690,   403,\n",
      "          7368,   297, 28705, 28740, 28740, 28784, 28734, 28725,   403,   835,\n",
      "         12575,  1307,   297,  3401, 28723]]), 'attention_mask': tensor([[1, 1, 1, 1, 1, 1, 1, 1, 1, 1, 1, 1, 1, 1, 1, 1, 1, 1, 1, 1, 1, 1, 1, 1,\n",
      "         1, 1, 1, 1, 1, 1, 1, 1, 1, 1, 1, 1, 1, 1, 1, 1, 1, 1, 1, 1, 1, 1, 1, 1,\n",
      "         1, 1, 1, 1, 1, 1, 1, 1, 1, 1, 1, 1, 1, 1, 1, 1, 1, 1, 1, 1, 1, 1, 1, 1,\n",
      "         1, 1, 1, 1, 1, 1, 1, 1, 1, 1, 1, 1, 1, 1, 1, 1, 1, 1, 1, 1, 1, 1, 1, 1,\n",
      "         1, 1, 1, 1, 1, 1, 1, 1, 1, 1, 1, 1, 1, 1, 1, 1, 1, 1, 1, 1, 1, 1, 1, 1,\n",
      "         1, 1, 1, 1, 1, 1, 1, 1, 1, 1, 1, 1, 1, 1, 1, 1, 1, 1, 1, 1, 1, 1, 1, 1,\n",
      "         1, 1, 1, 1, 1, 1, 1, 1, 1, 1, 1, 1, 1, 1, 1, 1, 1, 1, 1, 1, 1, 1, 1, 1,\n",
      "         1, 1, 1, 1, 1, 1, 1, 1, 1, 1, 1, 1, 1, 1, 1, 1, 1, 1, 1, 1, 1, 1, 1, 1,\n",
      "         1, 1, 1, 1, 1, 1, 1, 1, 1, 1, 1, 1, 1, 1, 1, 1, 1, 1, 1, 1, 1, 1, 1]]), 'retrieval_embeds': tensor([[-0.7148,  2.4219,  0.0378,  ...,  8.8125,  5.3125,  0.7227]]), 'labels': tensor([[ -100,  -100,  -100,  -100,  -100,  -100,  -100,  -100,  -100,  -100,\n",
      "          -100,  -100,  -100,  -100,  -100,   387,   415, 13729, 13846,   302,\n",
      "          6505,   294,   269,  1520, 28742, 28713,  2418,   266,   302, 18293,\n",
      "         28725,   690,   403,  7368,   297, 28705, 28740, 28740, 28750, 28787,\n",
      "         28725,   403, 12575,  1307,   297,  3401, 28723,    13,    13, 28733,\n",
      "           415, 13729, 13846,   302,  6505,   294,   269,  1520, 28742, 28713,\n",
      "          5522,  2366,   846,  1063, 28725,   690,   403,  7368,   297, 28705,\n",
      "         28740, 28740, 28750, 28787, 28725,   403,   835, 12575,  1307,   297,\n",
      "          3401, 28723,    13,    13, 28733,   415, 13729, 13846,   302,  6505,\n",
      "           294,   269,  1520, 28742, 28713,  5545,   294, 28725,   690,   403,\n",
      "          7368,   297, 28705, 28740, 28740, 28782, 28734, 28725,   403,   835,\n",
      "         12575,  1307,   297,  3401, 28723,    13,    13, 28733,   415, 13729,\n",
      "         13846,   302,  6505,   294,   269,  1520, 28742, 28713, 12051,  1063,\n",
      "         28725,   690,   403,  7368,   297, 28705, 28740, 28740, 28782, 28734,\n",
      "         28725,   403,   835, 12575,  1307,   297,  3401, 28723,    13,    13,\n",
      "         28733,   415, 13729, 13846,   302,  6505,   294,   269,  1520, 28742,\n",
      "         28713,   976,   631,  1916, 28725,   690,   403,  7368,   297, 28705,\n",
      "         28740, 28740, 28784, 28734, 28725,   403,   835, 12575,  1307,   297,\n",
      "          3401, 28723,    13,    13, 28733,   415, 13729, 13846,   302,  6505,\n",
      "           294,   269,  1520, 28742, 28713, 17221,  2161, 28725,   690,   403,\n",
      "          7368,   297, 28705, 28740, 28740, 28784, 28734, 28725,   403,   835,\n",
      "         12575,  1307,   297,  3401, 28723]])}\n"
     ]
    }
   ],
   "source": [
    "for step, batch in enumerate(teacher_train_dataloader):\n",
    "    print(batch)\n",
    "    if step == 2:\n",
    "        break"
   ]
  },
  {
   "cell_type": "code",
   "execution_count": null,
   "id": "4e95ef98",
   "metadata": {},
   "outputs": [],
   "source": []
  }
 ],
 "metadata": {
  "kernelspec": {
   "display_name": ".venv",
   "language": "python",
   "name": "python3"
  },
  "language_info": {
   "codemirror_mode": {
    "name": "ipython",
    "version": 3
   },
   "file_extension": ".py",
   "mimetype": "text/x-python",
   "name": "python",
   "nbconvert_exporter": "python",
   "pygments_lexer": "ipython3",
   "version": "3.9.23"
  }
 },
 "nbformat": 4,
 "nbformat_minor": 5
}
