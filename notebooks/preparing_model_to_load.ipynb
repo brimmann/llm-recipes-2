{
 "cells": [
  {
   "cell_type": "code",
   "execution_count": 2,
   "id": "2aa8e8e1",
   "metadata": {},
   "outputs": [
    {
     "name": "stderr",
     "output_type": "stream",
     "text": [
      "/home/brimmann/works/llm-recipes-2/models/checkpoint_handler.py:7: DeprecationWarning: `torch.distributed._shard.checkpoint` will be deprecated, use `torch.distributed.checkpoint` instead\n",
      "  import torch.distributed._shard.checkpoint as dist_cp\n"
     ]
    }
   ],
   "source": [
    "from transformers import AutoConfig, AutoTokenizer\n",
    "from models.modeling_xmistral import XMistralForCausalLM\n",
    "import torch\n",
    "from models.modeling_xgemma import XGemmaForCausalLM, XGemmaConfig"
   ]
  },
  {
   "cell_type": "code",
   "execution_count": 3,
   "id": "9f1cb1d5",
   "metadata": {},
   "outputs": [],
   "source": [
    "teacher_model_name = \"Hannibal046/xrag-7b\"\n",
    "device = \"cuda\" if torch.cuda.is_available() else \"cpu\""
   ]
  },
  {
   "cell_type": "code",
   "execution_count": null,
   "id": "f34d5b7f",
   "metadata": {},
   "outputs": [],
   "source": [
    "config = AutoConfig.from_pretrained(teacher_model_name)\n",
    "MODEL_CLASS = eval(config.architectures[0])\n",
    "teacher_model = MODEL_CLASS.from_pretrained(\n",
    "    teacher_model_name,\n",
    "    torch_dtype = torch.bfloat16,\n",
    "    low_cpu_mem_usage = True,\n",
    ").to(device)"
   ]
  },
  {
   "cell_type": "code",
   "execution_count": null,
   "id": "0c55e5de",
   "metadata": {},
   "outputs": [],
   "source": [
    "xmistral_tokenizer = AutoTokenizer.from_pretrained(teacher_model_name)"
   ]
  },
  {
   "cell_type": "code",
   "execution_count": 8,
   "id": "0aba8048",
   "metadata": {},
   "outputs": [],
   "source": [
    "pretrained_config = AutoConfig.from_pretrained(\"google/gemma-3-1b-it\")"
   ]
  },
  {
   "cell_type": "code",
   "execution_count": 9,
   "id": "cc44b8ed",
   "metadata": {},
   "outputs": [
    {
     "data": {
      "text/plain": [
       "Gemma3TextConfig {\n",
       "  \"_sliding_window_pattern\": 6,\n",
       "  \"architectures\": [\n",
       "    \"Gemma3ForCausalLM\"\n",
       "  ],\n",
       "  \"attention_bias\": false,\n",
       "  \"attention_dropout\": 0.0,\n",
       "  \"attn_logit_softcapping\": null,\n",
       "  \"bos_token_id\": 2,\n",
       "  \"cache_implementation\": \"hybrid\",\n",
       "  \"dtype\": \"bfloat16\",\n",
       "  \"eos_token_id\": [\n",
       "    1,\n",
       "    106\n",
       "  ],\n",
       "  \"final_logit_softcapping\": null,\n",
       "  \"head_dim\": 256,\n",
       "  \"hidden_activation\": \"gelu_pytorch_tanh\",\n",
       "  \"hidden_size\": 1152,\n",
       "  \"initializer_range\": 0.02,\n",
       "  \"intermediate_size\": 6912,\n",
       "  \"layer_types\": [\n",
       "    \"sliding_attention\",\n",
       "    \"sliding_attention\",\n",
       "    \"sliding_attention\",\n",
       "    \"sliding_attention\",\n",
       "    \"sliding_attention\",\n",
       "    \"full_attention\",\n",
       "    \"sliding_attention\",\n",
       "    \"sliding_attention\",\n",
       "    \"sliding_attention\",\n",
       "    \"sliding_attention\",\n",
       "    \"sliding_attention\",\n",
       "    \"full_attention\",\n",
       "    \"sliding_attention\",\n",
       "    \"sliding_attention\",\n",
       "    \"sliding_attention\",\n",
       "    \"sliding_attention\",\n",
       "    \"sliding_attention\",\n",
       "    \"full_attention\",\n",
       "    \"sliding_attention\",\n",
       "    \"sliding_attention\",\n",
       "    \"sliding_attention\",\n",
       "    \"sliding_attention\",\n",
       "    \"sliding_attention\",\n",
       "    \"full_attention\",\n",
       "    \"sliding_attention\",\n",
       "    \"sliding_attention\"\n",
       "  ],\n",
       "  \"max_position_embeddings\": 32768,\n",
       "  \"model_type\": \"gemma3_text\",\n",
       "  \"num_attention_heads\": 4,\n",
       "  \"num_hidden_layers\": 26,\n",
       "  \"num_key_value_heads\": 1,\n",
       "  \"pad_token_id\": 0,\n",
       "  \"query_pre_attn_scalar\": 256,\n",
       "  \"rms_norm_eps\": 1e-06,\n",
       "  \"rope_local_base_freq\": 10000,\n",
       "  \"rope_scaling\": null,\n",
       "  \"rope_theta\": 1000000,\n",
       "  \"sliding_window\": 512,\n",
       "  \"sliding_window_pattern\": 6,\n",
       "  \"transformers_version\": \"4.57.1\",\n",
       "  \"use_bidirectional_attention\": false,\n",
       "  \"use_cache\": true,\n",
       "  \"vocab_size\": 262144\n",
       "}"
      ]
     },
     "execution_count": 9,
     "metadata": {},
     "output_type": "execute_result"
    }
   ],
   "source": [
    "pretrained_config"
   ]
  },
  {
   "cell_type": "code",
   "execution_count": 12,
   "id": "6e5f49ff",
   "metadata": {},
   "outputs": [],
   "source": [
    "config = XGemmaConfig(\n",
    "    **pretrained_config.to_dict(),\n",
    "    projector_type='mlp2x_gelu',\n",
    "    retriever_hidden_size=4096,\n",
    ")\n",
    "    "
   ]
  },
  {
   "cell_type": "code",
   "execution_count": 13,
   "id": "daac7a4b",
   "metadata": {},
   "outputs": [
    {
     "name": "stderr",
     "output_type": "stream",
     "text": [
      "Some weights of XGemmaForCausalLM were not initialized from the model checkpoint at google/gemma-3-1b-it and are newly initialized: ['projector.projector.0.bias', 'projector.projector.0.weight', 'projector.projector.2.bias', 'projector.projector.2.weight']\n",
      "You should probably TRAIN this model on a down-stream task to be able to use it for predictions and inference.\n"
     ]
    }
   ],
   "source": [
    "model = XGemmaForCausalLM.from_pretrained(\"google/gemma-3-1b-it\", config=config)\n",
    "_ = model.to(device)"
   ]
  },
  {
   "cell_type": "code",
   "execution_count": 14,
   "id": "419a1667",
   "metadata": {},
   "outputs": [],
   "source": [
    "xgemma_tokenizer = AutoTokenizer.from_pretrained(\"google/gemma-3-1b-it\")"
   ]
  },
  {
   "cell_type": "code",
   "execution_count": 15,
   "id": "74558495",
   "metadata": {},
   "outputs": [
    {
     "data": {
      "text/plain": [
       "1"
      ]
     },
     "execution_count": 15,
     "metadata": {},
     "output_type": "execute_result"
    }
   ],
   "source": [
    "xgemma_tokenizer.add_special_tokens({\"additional_special_tokens\": [\"<xRAG>\"]})"
   ]
  },
  {
   "cell_type": "code",
   "execution_count": 16,
   "id": "0075ca56",
   "metadata": {},
   "outputs": [],
   "source": [
    "model.set_xrag_token_id(xgemma_tokenizer.convert_tokens_to_ids([\"<xRAG>\"]))"
   ]
  },
  {
   "cell_type": "code",
   "execution_count": 17,
   "id": "7c4161c6",
   "metadata": {},
   "outputs": [
    {
     "name": "stderr",
     "output_type": "stream",
     "text": [
      "The new embeddings will be initialized from a multivariate normal distribution that has old embeddings' mean and covariance. As described in this article: https://nlp.stanford.edu/~johnhew/vocab-expansion.html. To disable this, use `mean_resizing=False`\n"
     ]
    },
    {
     "data": {
      "text/plain": [
       "Embedding(262146, 1152, padding_idx=0)"
      ]
     },
     "execution_count": 17,
     "metadata": {},
     "output_type": "execute_result"
    }
   ],
   "source": [
    "model.resize_token_embeddings(len(xgemma_tokenizer))"
   ]
  }
 ],
 "metadata": {
  "language_info": {
   "name": "python"
  }
 },
 "nbformat": 4,
 "nbformat_minor": 5
}
