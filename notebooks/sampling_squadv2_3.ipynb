{
 "cells": [
  {
   "cell_type": "code",
   "execution_count": 1,
   "id": "95417e6e",
   "metadata": {},
   "outputs": [],
   "source": [
    "from datasets import load_dataset, DatasetDict"
   ]
  },
  {
   "cell_type": "code",
   "execution_count": 2,
   "id": "42c4dbf9",
   "metadata": {},
   "outputs": [],
   "source": [
    "dataset = load_dataset(\"GEM/squad_v2\", split='train')"
   ]
  },
  {
   "cell_type": "code",
   "execution_count": 3,
   "id": "5a478b68",
   "metadata": {},
   "outputs": [],
   "source": [
    "shuffled_dataset = dataset.shuffle(seed=42)"
   ]
  },
  {
   "cell_type": "code",
   "execution_count": 4,
   "id": "6dfd8622",
   "metadata": {},
   "outputs": [],
   "source": [
    "filtered_dataset = shuffled_dataset.filter(\n",
    "        lambda example: len(example['context'].split()) <= 200\n",
    ")"
   ]
  },
  {
   "cell_type": "code",
   "execution_count": 5,
   "id": "73e73b36",
   "metadata": {},
   "outputs": [],
   "source": [
    "filtered_dataset_train = filtered_dataset"
   ]
  },
  {
   "cell_type": "code",
   "execution_count": 6,
   "id": "f400e57d",
   "metadata": {},
   "outputs": [],
   "source": [
    "dataset_train = load_dataset(\"GEM/squad_v2\", split='validation')"
   ]
  },
  {
   "cell_type": "code",
   "execution_count": 7,
   "id": "7287eab3",
   "metadata": {},
   "outputs": [],
   "source": [
    "shuffled_dataset = dataset.shuffle(seed=42)"
   ]
  },
  {
   "cell_type": "code",
   "execution_count": 8,
   "id": "7a68d1a9",
   "metadata": {},
   "outputs": [],
   "source": [
    "filtered_dataset_validation = shuffled_dataset.filter(\n",
    "        lambda example: len(example['context'].split()) <= 200\n",
    ")"
   ]
  },
  {
   "cell_type": "code",
   "execution_count": 9,
   "id": "9dad6a4f",
   "metadata": {},
   "outputs": [],
   "source": [
    "squad_v2_sampled2_train = filtered_dataset_train.select(range(4000))"
   ]
  },
  {
   "cell_type": "code",
   "execution_count": 10,
   "id": "b1d0c16f",
   "metadata": {},
   "outputs": [],
   "source": [
    "squad_v2_sampled2_validation = filtered_dataset_validation.select(range(400))"
   ]
  },
  {
   "cell_type": "code",
   "execution_count": 11,
   "id": "ecf7bcfa",
   "metadata": {},
   "outputs": [],
   "source": [
    "final_splits = DatasetDict({\n",
    "        'train': squad_v2_sampled2_train,\n",
    "        'validation': squad_v2_sampled2_validation,\n",
    "    })"
   ]
  },
  {
   "cell_type": "code",
   "execution_count": 15,
   "id": "bdcf070f",
   "metadata": {},
   "outputs": [
    {
     "data": {
      "application/vnd.jupyter.widget-view+json": {
       "model_id": "20bc8dae8a3748e08ea53194b7d65978",
       "version_major": 2,
       "version_minor": 0
      },
      "text/plain": [
       "VBox(children=(HTML(value='<center> <img\\nsrc=https://huggingface.co/front/assets/huggingface_logo-noborder.sv…"
      ]
     },
     "metadata": {},
     "output_type": "display_data"
    }
   ],
   "source": [
    "from huggingface_hub import notebook_login\n",
    "notebook_login()"
   ]
  },
  {
   "cell_type": "code",
   "execution_count": 12,
   "id": "47db78a1",
   "metadata": {},
   "outputs": [
    {
     "data": {
      "application/vnd.jupyter.widget-view+json": {
       "model_id": "fb0c68d748bf4e2da1d1e7a8b9bffbab",
       "version_major": 2,
       "version_minor": 0
      },
      "text/plain": [
       "Uploading the dataset shards:   0%|          | 0/1 [00:00<?, ?it/s]"
      ]
     },
     "metadata": {},
     "output_type": "display_data"
    },
    {
     "data": {
      "application/vnd.jupyter.widget-view+json": {
       "model_id": "4196744f79a54ca6b5047ed33486a6bd",
       "version_major": 2,
       "version_minor": 0
      },
      "text/plain": [
       "Creating parquet from Arrow format:   0%|          | 0/4 [00:00<?, ?ba/s]"
      ]
     },
     "metadata": {},
     "output_type": "display_data"
    },
    {
     "data": {
      "application/vnd.jupyter.widget-view+json": {
       "model_id": "b200db9853624dc1a8249f34edfe1ba9",
       "version_major": 2,
       "version_minor": 0
      },
      "text/plain": [
       "Processing Files (0 / 0): |          |  0.00B /  0.00B            "
      ]
     },
     "metadata": {},
     "output_type": "display_data"
    },
    {
     "data": {
      "application/vnd.jupyter.widget-view+json": {
       "model_id": "f9de5e7896ac4b89ae5b86526844c1e5",
       "version_major": 2,
       "version_minor": 0
      },
      "text/plain": [
       "New Data Upload: |          |  0.00B /  0.00B            "
      ]
     },
     "metadata": {},
     "output_type": "display_data"
    },
    {
     "data": {
      "application/vnd.jupyter.widget-view+json": {
       "model_id": "bc9df2db936f44ea9ed206a221bb751b",
       "version_major": 2,
       "version_minor": 0
      },
      "text/plain": [
       "Uploading the dataset shards:   0%|          | 0/1 [00:00<?, ?it/s]"
      ]
     },
     "metadata": {},
     "output_type": "display_data"
    },
    {
     "data": {
      "application/vnd.jupyter.widget-view+json": {
       "model_id": "cf54561bf1ba48f7a849ac03429a6034",
       "version_major": 2,
       "version_minor": 0
      },
      "text/plain": [
       "Creating parquet from Arrow format:   0%|          | 0/1 [00:00<?, ?ba/s]"
      ]
     },
     "metadata": {},
     "output_type": "display_data"
    },
    {
     "data": {
      "application/vnd.jupyter.widget-view+json": {
       "model_id": "c4623b9e7a3c4739b33e0dcf8237ed91",
       "version_major": 2,
       "version_minor": 0
      },
      "text/plain": [
       "Processing Files (0 / 0): |          |  0.00B /  0.00B            "
      ]
     },
     "metadata": {},
     "output_type": "display_data"
    },
    {
     "data": {
      "application/vnd.jupyter.widget-view+json": {
       "model_id": "e3cf856b5766471585961d294818f05b",
       "version_major": 2,
       "version_minor": 0
      },
      "text/plain": [
       "New Data Upload: |          |  0.00B /  0.00B            "
      ]
     },
     "metadata": {},
     "output_type": "display_data"
    },
    {
     "data": {
      "text/plain": [
       "CommitInfo(commit_url='https://huggingface.co/datasets/brimmann2/squad-v2-sampled3/commit/7314583d0d14795d4b8af16a747452ee77ffa7aa', commit_message='Upload dataset', commit_description='', oid='7314583d0d14795d4b8af16a747452ee77ffa7aa', pr_url=None, repo_url=RepoUrl('https://huggingface.co/datasets/brimmann2/squad-v2-sampled3', endpoint='https://huggingface.co', repo_type='dataset', repo_id='brimmann2/squad-v2-sampled3'), pr_revision=None, pr_num=None)"
      ]
     },
     "execution_count": 12,
     "metadata": {},
     "output_type": "execute_result"
    }
   ],
   "source": [
    "final_splits.push_to_hub(\"brimmann2/squad-v2-sampled3\")"
   ]
  }
 ],
 "metadata": {
  "kernelspec": {
   "display_name": ".venv",
   "language": "python",
   "name": "python3"
  },
  "language_info": {
   "codemirror_mode": {
    "name": "ipython",
    "version": 3
   },
   "file_extension": ".py",
   "mimetype": "text/x-python",
   "name": "python",
   "nbconvert_exporter": "python",
   "pygments_lexer": "ipython3",
   "version": "3.9.23"
  }
 },
 "nbformat": 4,
 "nbformat_minor": 5
}
