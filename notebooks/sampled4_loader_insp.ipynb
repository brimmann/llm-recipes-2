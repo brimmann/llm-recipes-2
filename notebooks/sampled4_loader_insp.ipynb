{
 "cells": [
  {
   "cell_type": "code",
   "execution_count": 1,
   "id": "47bde4ae",
   "metadata": {},
   "outputs": [],
   "source": [
    "from configs.datasets import dataset as DatasetConfig\n",
    "from configs.training import train_config as TrainConfig\n",
    "from configs.distillation import distillation_config as DistillationConfig\n",
    "from configs.fsdp import fsdp_config as FsdpConfig"
   ]
  },
  {
   "cell_type": "code",
   "execution_count": 2,
   "id": "67a9d94f",
   "metadata": {},
   "outputs": [],
   "source": [
    "dataset_config = DatasetConfig()\n",
    "train_config = TrainConfig()\n",
    "distill_config = DistillationConfig()\n",
    "fsdp_config = DistillationConfig()\n",
    "train_config.model_name = \"EleutherAI/pythia-410m-deduped\"\n",
    "distill_config.model_name = \"meta-llama/Llama-2-7b-chat-hf\"\n",
    "train_config.batch_size_training = 1\n",
    "train_config.num_workers_dataloader = 0\n",
    "dataset_config.file = \"data/loaders/sqaud_v2_sampled4.py\""
   ]
  },
  {
   "cell_type": "code",
   "execution_count": 4,
   "id": "b8ba5eeb",
   "metadata": {},
   "outputs": [],
   "source": [
    "from transformers import AutoTokenizer\n",
    "llama_tokenizer = AutoTokenizer.from_pretrained(distill_config.model_name )"
   ]
  },
  {
   "cell_type": "code",
   "execution_count": 5,
   "id": "e4979287",
   "metadata": {},
   "outputs": [
    {
     "data": {
      "application/vnd.jupyter.widget-view+json": {
       "model_id": "e037bb22c5f14962a06203e69f42492f",
       "version_major": 2,
       "version_minor": 0
      },
      "text/plain": [
       "README.md:   0%|          | 0.00/592 [00:00<?, ?B/s]"
      ]
     },
     "metadata": {},
     "output_type": "display_data"
    },
    {
     "data": {
      "application/vnd.jupyter.widget-view+json": {
       "model_id": "fa9d824f2b2b41e8addf633474c470b5",
       "version_major": 2,
       "version_minor": 0
      },
      "text/plain": [
       "data/train-00000-of-00001.parquet:   0%|          | 0.00/2.10M [00:00<?, ?B/s]"
      ]
     },
     "metadata": {},
     "output_type": "display_data"
    },
    {
     "data": {
      "application/vnd.jupyter.widget-view+json": {
       "model_id": "32a102240fcd43578b44e8e4fd2f3ab8",
       "version_major": 2,
       "version_minor": 0
      },
      "text/plain": [
       "data/validation-00000-of-00001.parquet:   0%|          | 0.00/217k [00:00<?, ?B/s]"
      ]
     },
     "metadata": {},
     "output_type": "display_data"
    },
    {
     "data": {
      "application/vnd.jupyter.widget-view+json": {
       "model_id": "d1b170e548b54aa6a729bb9bb06a39d1",
       "version_major": 2,
       "version_minor": 0
      },
      "text/plain": [
       "Generating train split:   0%|          | 0/4000 [00:00<?, ? examples/s]"
      ]
     },
     "metadata": {},
     "output_type": "display_data"
    },
    {
     "data": {
      "application/vnd.jupyter.widget-view+json": {
       "model_id": "92d59bb34daf4987b7a637d4121e5760",
       "version_major": 2,
       "version_minor": 0
      },
      "text/plain": [
       "Generating validation split:   0%|          | 0/400 [00:00<?, ? examples/s]"
      ]
     },
     "metadata": {},
     "output_type": "display_data"
    },
    {
     "data": {
      "application/vnd.jupyter.widget-view+json": {
       "model_id": "a0c1f6dbbbd84f63b22f5fbfb7711b3f",
       "version_major": 2,
       "version_minor": 0
      },
      "text/plain": [
       "Map:   0%|          | 0/4000 [00:00<?, ? examples/s]"
      ]
     },
     "metadata": {},
     "output_type": "display_data"
    },
    {
     "name": "stdout",
     "output_type": "stream",
     "text": [
      "Batch size is 1\n",
      "--> Training Set Length = 4000\n"
     ]
    },
    {
     "data": {
      "application/vnd.jupyter.widget-view+json": {
       "model_id": "cf977d0eb0694e14a320e7534f344b57",
       "version_major": 2,
       "version_minor": 0
      },
      "text/plain": [
       "Map:   0%|          | 0/400 [00:00<?, ? examples/s]"
      ]
     },
     "metadata": {},
     "output_type": "display_data"
    },
    {
     "name": "stdout",
     "output_type": "stream",
     "text": [
      "Batch size is 1\n",
      "--> Validation Set Length = 400\n"
     ]
    }
   ],
   "source": [
    "from data.data_utils import get_dataloader\n",
    "student_train_dataloader, student_eval_dataloader = get_dataloader(dataset_config, train_config, llama_tokenizer, 0, distill_config)"
   ]
  },
  {
   "cell_type": "code",
   "execution_count": 8,
   "id": "42281b6e",
   "metadata": {},
   "outputs": [],
   "source": [
    "llama_tokenizer.pad_token = llama_tokenizer.eos_token"
   ]
  },
  {
   "cell_type": "code",
   "execution_count": 11,
   "id": "538a98f2",
   "metadata": {},
   "outputs": [
    {
     "name": "stdout",
     "output_type": "stream",
     "text": [
      "<s> [INST] <<SYS>>\n",
      "You are an agent answering questions as part of a reading comprehension activity. You must read and understand the context text step by step. Answers consist of 0 to 5 words, exclusively continuous words taken from the contextual text provided.\n",
      "<</SYS>>\n",
      "\n",
      "Context: Patrick Harris (Tim DeKay), Old Christine's new boyfriend, who she meets in a video store and starts dating.\n",
      "Question: Who played patrick on new adventures of old christine? [/INST] Answer: Tim DeKay </s><s> [INST] Context: Jefferson's concept of \"separation of church and state\" first became a part of Establishment Clause jurisprudence in Reynolds v. U.S., 98 U.S. 145 (1878). In that case, the court examined the history of religious liberty in the US, determining that while the constitution guarantees religious freedom, \"The word 'religion' is not defined in the Constitution. We must go elsewhere, therefore, to ascertain its meaning, and nowhere more appropriately, we think, than to the history of the times in the midst of which the provision was adopted.\" The court found that the leaders in advocating and formulating the constitutional guarantee of religious liberty were James Madison and Thomas Jefferson. Quoting the \"separation\" paragraph from Jefferson's letter to the Danbury Baptists, the court concluded that, \"coming as this does from an acknowledged leader of the advocates of the measure, it may be accepted almost as an authoritative declaration of the scope and effect of the amendment thus secured.\"\n",
      "Question: Jefferson's concept of 'separation of church and state\" didn't become part of what jurisprudence? [/INST] Answer: Establishment Clause jurisprudence\n"
     ]
    }
   ],
   "source": [
    "for step, batch in enumerate(student_train_dataloader):\n",
    "    if step >= 1:\n",
    "        break\n",
    "    print(llama_tokenizer.decode(batch[\"input_ids\"][0]))"
   ]
  },
  {
   "cell_type": "code",
   "execution_count": null,
   "id": "91506dab",
   "metadata": {},
   "outputs": [],
   "source": []
  }
 ],
 "metadata": {
  "kernelspec": {
   "display_name": ".venv",
   "language": "python",
   "name": "python3"
  },
  "language_info": {
   "codemirror_mode": {
    "name": "ipython",
    "version": 3
   },
   "file_extension": ".py",
   "mimetype": "text/x-python",
   "name": "python",
   "nbconvert_exporter": "python",
   "pygments_lexer": "ipython3",
   "version": "3.9.23"
  }
 },
 "nbformat": 4,
 "nbformat_minor": 5
}
