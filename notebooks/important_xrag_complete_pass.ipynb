{
 "cells": [
  {
   "cell_type": "code",
   "execution_count": 1,
   "id": "c1d3f702",
   "metadata": {},
   "outputs": [],
   "source": [
    "from models.xrag_models_utils import get_xrag_models"
   ]
  },
  {
   "cell_type": "code",
   "execution_count": 2,
   "id": "1bae397f",
   "metadata": {},
   "outputs": [
    {
     "name": "stderr",
     "output_type": "stream",
     "text": [
      "`torch_dtype` is deprecated! Use `dtype` instead!\n"
     ]
    },
    {
     "data": {
      "application/vnd.jupyter.widget-view+json": {
       "model_id": "0bd544d70cd4459da50afca79a8bdf79",
       "version_major": 2,
       "version_minor": 0
      },
      "text/plain": [
       "Loading checkpoint shards:   0%|          | 0/3 [00:00<?, ?it/s]"
      ]
     },
     "metadata": {},
     "output_type": "display_data"
    },
    {
     "name": "stderr",
     "output_type": "stream",
     "text": [
      "Some weights of XGemmaForCausalLM were not initialized from the model checkpoint at google/gemma-3-1b-it and are newly initialized: ['projector.projector.0.bias', 'projector.projector.0.weight', 'projector.projector.2.bias', 'projector.projector.2.weight']\n",
      "You should probably TRAIN this model on a down-stream task to be able to use it for predictions and inference.\n",
      "The new embeddings will be initialized from a multivariate normal distribution that has old embeddings' mean and covariance. As described in this article: https://nlp.stanford.edu/~johnhew/vocab-expansion.html. To disable this, use `mean_resizing=False`\n"
     ]
    },
    {
     "name": "stdout",
     "output_type": "stream",
     "text": [
      "initializing xRAG distillation...\n"
     ]
    }
   ],
   "source": [
    "student_tokenizer, teacher_tokenizer, model = get_xrag_models()"
   ]
  },
  {
   "cell_type": "code",
   "execution_count": null,
   "id": "d1e18bd9",
   "metadata": {},
   "outputs": [],
   "source": [
    "from configs.datasets import dataset as DatasetConfig\n",
    "from configs.training import train_config as TrainConfig\n",
    "from configs.distillation import distillation_config as DistillationConfig\n",
    "from configs.fsdp import fsdp_config as FsdpConfig"
   ]
  },
  {
   "cell_type": "code",
   "execution_count": 4,
   "id": "640e52cd",
   "metadata": {},
   "outputs": [],
   "source": [
    "dataset_config = DatasetConfig()\n",
    "train_config = TrainConfig()\n",
    "distill_config = DistillationConfig()\n",
    "fsdp_config = DistillationConfig()\n",
    "train_config.model_name = \"google/gemma-3-1b-it\"\n",
    "distill_config.model_name = \"Hannibal046/xrag-7b\"\n",
    "train_config.batch_size_training = 1\n",
    "train_config.num_workers_dataloader = 1\n",
    "dataset_config.file = \"data/loaders/squad-v2-sampled.py\""
   ]
  },
  {
   "cell_type": "code",
   "execution_count": 8,
   "id": "7e8cc5a3",
   "metadata": {},
   "outputs": [
    {
     "name": "stdout",
     "output_type": "stream",
     "text": [
      "--> Training Set Length = 1000\n",
      "--> Validation Set Length = 250\n"
     ]
    }
   ],
   "source": [
    "from data.data_utils import get_dataloader\n",
    "student_train_dataloader, student_eval_dataloader = get_dataloader(dataset_config, train_config, student_tokenizer, 0, distill_config)"
   ]
  },
  {
   "cell_type": "code",
   "execution_count": 9,
   "id": "943bacce",
   "metadata": {},
   "outputs": [
    {
     "name": "stdout",
     "output_type": "stream",
     "text": [
      "--> Training Set Length = 1000\n",
      "--> Validation Set Length = 250\n"
     ]
    }
   ],
   "source": [
    "from data.data_utils import get_dataloader\n",
    "teacher_train_dataloader, teacher_eval_dataloader = get_dataloader(dataset_config, train_config, teacher_tokenizer, 0, distill_config)"
   ]
  },
  {
   "cell_type": "code",
   "execution_count": 10,
   "id": "5365d390",
   "metadata": {},
   "outputs": [],
   "source": [
    "student_item = next(iter(student_train_dataloader))\n",
    "teacher_item = next(iter(teacher_train_dataloader))"
   ]
  },
  {
   "cell_type": "code",
   "execution_count": 38,
   "id": "25a4c2fd",
   "metadata": {},
   "outputs": [
    {
     "data": {
      "text/plain": [
       "transformers.tokenization_utils_base.BatchEncoding"
      ]
     },
     "execution_count": 38,
     "metadata": {},
     "output_type": "execute_result"
    }
   ],
   "source": [
    "type(student_item)"
   ]
  },
  {
   "cell_type": "code",
   "execution_count": 13,
   "id": "643722bb",
   "metadata": {},
   "outputs": [
    {
     "name": "stdout",
     "output_type": "stream",
     "text": [
      "<start_of_turn>user\n",
      "Background: <xRAG>, which also means:<end_of_turn>Internet service provider\n",
      "[INST] Background:<xRAG>, which also means:[/INST] Internet service provider\n"
     ]
    }
   ],
   "source": [
    "print(student_tokenizer.decode(student_item[\"input_ids\"][0]))\n",
    "print(teacher_tokenizer.decode(teacher_item[\"input_ids\"][0]))"
   ]
  },
  {
   "cell_type": "code",
   "execution_count": null,
   "id": "760213c4",
   "metadata": {},
   "outputs": [],
   "source": [
    "for key in teacher_item.keys():\n",
    "    teacher_item[key] = teacher_item[key].to('cuda:0')\n",
    "\n",
    "for key in student_item.keys():\n",
    "    student_item[key] = student_item[key].to('cuda:0')"
   ]
  },
  {
   "cell_type": "code",
   "execution_count": 41,
   "id": "d1aa1f7a",
   "metadata": {},
   "outputs": [],
   "source": [
    "r = zip(student_item, teacher_item)"
   ]
  },
  {
   "cell_type": "code",
   "execution_count": 31,
   "id": "77f6eca4",
   "metadata": {},
   "outputs": [],
   "source": [
    "r2 = zip(student_train_dataloader, teacher_train_dataloader)"
   ]
  },
  {
   "cell_type": "code",
   "execution_count": 27,
   "id": "9e22bad6",
   "metadata": {},
   "outputs": [],
   "source": [
    "def forward(student_input_ids, student_attention_mask, student_retrieval_embeds, student_labels, teacher_input_ids, teacher_attention_mask, teacher_retrieval_embeds, teacher_labels):\n",
    "    print(\"passed\")"
   ]
  },
  {
   "cell_type": "code",
   "execution_count": 39,
   "id": "01536520",
   "metadata": {},
   "outputs": [],
   "source": [
    "from models.distillation_model import preprocess_distillation_batch"
   ]
  },
  {
   "cell_type": "code",
   "execution_count": 44,
   "id": "114454cc",
   "metadata": {},
   "outputs": [],
   "source": [
    "for step, batch in enumerate(r2):\n",
    "    batch = preprocess_distillation_batch(batch)\n",
    "    for key in batch.keys():\n",
    "        batch[key] = batch[key].to('cuda:0')\n",
    "    # forward(**batch)\n",
    "    student_output, teacher_output = model(**batch)\n",
    "    if step == 1:\n",
    "        break"
   ]
  },
  {
   "cell_type": "code",
   "execution_count": 45,
   "id": "b4f77c23",
   "metadata": {},
   "outputs": [
    {
     "data": {
      "text/plain": [
       "tensor(33.7881, device='cuda:0', grad_fn=<NllLossBackward0>)"
      ]
     },
     "execution_count": 45,
     "metadata": {},
     "output_type": "execute_result"
    }
   ],
   "source": [
    "student_output.loss"
   ]
  },
  {
   "cell_type": "code",
   "execution_count": 46,
   "id": "9055a6b4",
   "metadata": {},
   "outputs": [
    {
     "data": {
      "text/plain": [
       "tensor(0.7753, device='cuda:0')"
      ]
     },
     "execution_count": 46,
     "metadata": {},
     "output_type": "execute_result"
    }
   ],
   "source": [
    "teacher_output.loss"
   ]
  }
 ],
 "metadata": {
  "kernelspec": {
   "display_name": ".venv",
   "language": "python",
   "name": "python3"
  },
  "language_info": {
   "codemirror_mode": {
    "name": "ipython",
    "version": 3
   },
   "file_extension": ".py",
   "mimetype": "text/x-python",
   "name": "python",
   "nbconvert_exporter": "python",
   "pygments_lexer": "ipython3",
   "version": "3.9.23"
  }
 },
 "nbformat": 4,
 "nbformat_minor": 5
}
