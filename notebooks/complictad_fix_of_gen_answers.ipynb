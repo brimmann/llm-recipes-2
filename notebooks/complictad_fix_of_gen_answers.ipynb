{
 "cells": [
  {
   "cell_type": "code",
   "execution_count": 26,
   "id": "41b98a76",
   "metadata": {},
   "outputs": [],
   "source": [
    "from datasets import load_dataset"
   ]
  },
  {
   "cell_type": "code",
   "execution_count": 31,
   "id": "ce97605b",
   "metadata": {},
   "outputs": [],
   "source": [
    "ds_gen = load_dataset(\"brimmann2/squad-v2-sampled2-gen\")"
   ]
  },
  {
   "cell_type": "code",
   "execution_count": 29,
   "id": "3bf64b88",
   "metadata": {},
   "outputs": [
    {
     "data": {
      "application/vnd.jupyter.widget-view+json": {
       "model_id": "23866c520f28465f9c2ba3c26887ea12",
       "version_major": 2,
       "version_minor": 0
      },
      "text/plain": [
       "VBox(children=(HTML(value='<center> <img\\nsrc=https://huggingface.co/front/assets/huggingface_logo-noborder.sv…"
      ]
     },
     "metadata": {},
     "output_type": "display_data"
    }
   ],
   "source": [
    "from huggingface_hub import notebook_login\n",
    "notebook_login()"
   ]
  },
  {
   "cell_type": "code",
   "execution_count": 32,
   "id": "99aea893",
   "metadata": {},
   "outputs": [],
   "source": [
    "ds = load_dataset(\"brimmann2/squad-v2-sampled3\")"
   ]
  },
  {
   "cell_type": "code",
   "execution_count": 37,
   "id": "16f0d2dd",
   "metadata": {},
   "outputs": [
    {
     "data": {
      "text/plain": [
       "DatasetDict({\n",
       "    train: Dataset({\n",
       "        features: ['gem_id', 'id', 'title', 'context', 'question', 'target', 'references', 'answers', 'prompt', 'input_ids', 'attention_mask', 'answers_generated'],\n",
       "        num_rows: 4000\n",
       "    })\n",
       "    validation: Dataset({\n",
       "        features: ['gem_id', 'id', 'title', 'context', 'question', 'target', 'references', 'answers'],\n",
       "        num_rows: 400\n",
       "    })\n",
       "})"
      ]
     },
     "execution_count": 37,
     "metadata": {},
     "output_type": "execute_result"
    }
   ],
   "source": [
    "ds"
   ]
  },
  {
   "cell_type": "code",
   "execution_count": 34,
   "id": "cd88a224",
   "metadata": {},
   "outputs": [],
   "source": [
    "ds[\"train\"] = ds_gen[\"train\"]"
   ]
  },
  {
   "cell_type": "code",
   "execution_count": 38,
   "id": "cc2259a2",
   "metadata": {},
   "outputs": [
    {
     "data": {
      "application/vnd.jupyter.widget-view+json": {
       "model_id": "033f1f35c24541439105e2042ad7f11a",
       "version_major": 2,
       "version_minor": 0
      },
      "text/plain": [
       "README.md:   0%|          | 0.00/778 [00:00<?, ?B/s]"
      ]
     },
     "metadata": {},
     "output_type": "display_data"
    },
    {
     "data": {
      "application/vnd.jupyter.widget-view+json": {
       "model_id": "c23553c8859e4dc789c02cfb8e0df3fa",
       "version_major": 2,
       "version_minor": 0
      },
      "text/plain": [
       "data/validation-00000-of-00001.parquet:   0%|          | 0.00/652k [00:00<?, ?B/s]"
      ]
     },
     "metadata": {},
     "output_type": "display_data"
    },
    {
     "data": {
      "application/vnd.jupyter.widget-view+json": {
       "model_id": "22c5954de98345feab20d9ac5c4c93c6",
       "version_major": 2,
       "version_minor": 0
      },
      "text/plain": [
       "Generating validation split:   0%|          | 0/400 [00:00<?, ? examples/s]"
      ]
     },
     "metadata": {},
     "output_type": "display_data"
    }
   ],
   "source": [
    "dval = load_dataset(\"brimmann2/squad-v2-sampled2-gen2\", split=\"validation\")"
   ]
  },
  {
   "cell_type": "code",
   "execution_count": 39,
   "id": "80df5dcd",
   "metadata": {},
   "outputs": [
    {
     "data": {
      "text/plain": [
       "Dataset({\n",
       "    features: ['gem_id', 'id', 'title', 'context', 'question', 'target', 'references', 'answers', 'prompt', 'input_ids', 'attention_mask', 'answers_generated'],\n",
       "    num_rows: 400\n",
       "})"
      ]
     },
     "execution_count": 39,
     "metadata": {},
     "output_type": "execute_result"
    }
   ],
   "source": [
    "dval"
   ]
  },
  {
   "cell_type": "code",
   "execution_count": 40,
   "id": "0e7e4ab5",
   "metadata": {},
   "outputs": [],
   "source": [
    "ds[\"validation\"] = dval"
   ]
  },
  {
   "cell_type": "code",
   "execution_count": 48,
   "id": "4d629d20",
   "metadata": {},
   "outputs": [],
   "source": [
    "tf = ds[\"train\"].features"
   ]
  },
  {
   "cell_type": "code",
   "execution_count": 47,
   "id": "f595c839",
   "metadata": {},
   "outputs": [],
   "source": [
    "vf = ds[\"validation\"].features"
   ]
  },
  {
   "cell_type": "code",
   "execution_count": 50,
   "id": "14ba485f",
   "metadata": {},
   "outputs": [
    {
     "data": {
      "text/plain": [
       "{'gem_id': Value(dtype='string', id=None),\n",
       " 'id': Value(dtype='string', id=None),\n",
       " 'title': Value(dtype='string', id=None),\n",
       " 'context': Value(dtype='string', id=None),\n",
       " 'question': Value(dtype='string', id=None),\n",
       " 'target': Value(dtype='string', id=None),\n",
       " 'references': [Value(dtype='string', id=None)],\n",
       " 'answers': {'text': [Value(dtype='string', id=None)],\n",
       "  'answer_start': [Value(dtype='int32', id=None)]},\n",
       " 'prompt': Value(dtype='string', id=None),\n",
       " 'input_ids': [Value(dtype='int32', id=None)],\n",
       " 'attention_mask': [Value(dtype='int8', id=None)],\n",
       " 'answers_generated': Value(dtype='string', id=None)}"
      ]
     },
     "execution_count": 50,
     "metadata": {},
     "output_type": "execute_result"
    }
   ],
   "source": [
    "tf"
   ]
  },
  {
   "cell_type": "code",
   "execution_count": null,
   "id": "686b0ba4",
   "metadata": {},
   "outputs": [],
   "source": []
  },
  {
   "cell_type": "code",
   "execution_count": 51,
   "id": "06ef9212",
   "metadata": {},
   "outputs": [
    {
     "data": {
      "text/plain": [
       "{'gem_id': Value(dtype='string', id=None),\n",
       " 'id': Value(dtype='string', id=None),\n",
       " 'title': Value(dtype='string', id=None),\n",
       " 'context': Value(dtype='string', id=None),\n",
       " 'question': Value(dtype='string', id=None),\n",
       " 'target': Value(dtype='string', id=None),\n",
       " 'references': [Value(dtype='string', id=None)],\n",
       " 'answers': Sequence(feature={'text': Value(dtype='string', id=None), 'answer_start': Value(dtype='int32', id=None)}, length=-1, id=None),\n",
       " 'prompt': Value(dtype='string', id=None),\n",
       " 'input_ids': Sequence(feature=Value(dtype='int32', id=None), length=-1, id=None),\n",
       " 'attention_mask': Sequence(feature=Value(dtype='int8', id=None), length=-1, id=None),\n",
       " 'answers_generated': Value(dtype='string', id=None)}"
      ]
     },
     "execution_count": 51,
     "metadata": {},
     "output_type": "execute_result"
    }
   ],
   "source": [
    "vf"
   ]
  },
  {
   "cell_type": "code",
   "execution_count": 56,
   "id": "c0731bbe",
   "metadata": {},
   "outputs": [],
   "source": [
    "from datasets import DatasetDict\n",
    "new_ds = DatasetDict({\n",
    "    \"train\": ds[\"train\"].select_columns([\"context\", \"question\", \"answers\", \"answers_generated\"]),\n",
    "    \"validation\": ds[\"validation\"].select_columns([\"context\", \"question\", \"answers\", \"answers_generated\"])\n",
    "})"
   ]
  },
  {
   "cell_type": "code",
   "execution_count": 59,
   "id": "bf83f053",
   "metadata": {},
   "outputs": [
    {
     "data": {
      "text/plain": [
       "DatasetDict({\n",
       "    train: Dataset({\n",
       "        features: ['context', 'question', 'answers', 'answers_generated'],\n",
       "        num_rows: 4000\n",
       "    })\n",
       "    validation: Dataset({\n",
       "        features: ['context', 'question', 'answers', 'answers_generated'],\n",
       "        num_rows: 400\n",
       "    })\n",
       "})"
      ]
     },
     "execution_count": 59,
     "metadata": {},
     "output_type": "execute_result"
    }
   ],
   "source": [
    "new_ds"
   ]
  },
  {
   "cell_type": "code",
   "execution_count": 58,
   "id": "e2f3d258",
   "metadata": {},
   "outputs": [
    {
     "ename": "ValueError",
     "evalue": "All datasets in `DatasetDict` should have the same features but features for 'train' and 'validation' don't match: {'context': Value(dtype='string', id=None), 'question': Value(dtype='string', id=None), 'answers': {'text': [Value(dtype='string', id=None)], 'answer_start': [Value(dtype='int32', id=None)]}, 'answers_generated': Value(dtype='string', id=None)} != {'context': Value(dtype='string', id=None), 'question': Value(dtype='string', id=None), 'answers': Sequence(feature={'text': Value(dtype='string', id=None), 'answer_start': Value(dtype='int32', id=None)}, length=-1, id=None), 'answers_generated': Value(dtype='string', id=None)}",
     "output_type": "error",
     "traceback": [
      "\u001b[0;31m---------------------------------------------------------------------------\u001b[0m",
      "\u001b[0;31mValueError\u001b[0m                                Traceback (most recent call last)",
      "Cell \u001b[0;32mIn[58], line 1\u001b[0m\n\u001b[0;32m----> 1\u001b[0m \u001b[43mnew_ds\u001b[49m\u001b[38;5;241;43m.\u001b[39;49m\u001b[43mpush_to_hub\u001b[49m\u001b[43m(\u001b[49m\u001b[38;5;124;43m\"\u001b[39;49m\u001b[38;5;124;43mbrimmann2/squad-v2-sampled4\u001b[39;49m\u001b[38;5;124;43m\"\u001b[39;49m\u001b[43m)\u001b[49m\n",
      "File \u001b[0;32m~/works/llm-recipes-2/.venv/lib/python3.9/site-packages/datasets/dataset_dict.py:1710\u001b[0m, in \u001b[0;36mDatasetDict.push_to_hub\u001b[0;34m(self, repo_id, config_name, set_default, data_dir, commit_message, commit_description, private, token, revision, create_pr, max_shard_size, num_shards, embed_external_files)\u001b[0m\n\u001b[1;32m   1705\u001b[0m     \u001b[38;5;28;01mraise\u001b[39;00m \u001b[38;5;167;01mValueError\u001b[39;00m(\n\u001b[1;32m   1706\u001b[0m         \u001b[38;5;124m\"\u001b[39m\u001b[38;5;124mPlease provide one `num_shards` per dataset in the dataset dictionary, e.g. \u001b[39m\u001b[38;5;124m{{\u001b[39m\u001b[38;5;124m'\u001b[39m\u001b[38;5;124mtrain\u001b[39m\u001b[38;5;124m'\u001b[39m\u001b[38;5;124m: 128, \u001b[39m\u001b[38;5;124m'\u001b[39m\u001b[38;5;124mtest\u001b[39m\u001b[38;5;124m'\u001b[39m\u001b[38;5;124m: 4}}\u001b[39m\u001b[38;5;124m\"\u001b[39m\n\u001b[1;32m   1707\u001b[0m     )\n\u001b[1;32m   1709\u001b[0m \u001b[38;5;28mself\u001b[39m\u001b[38;5;241m.\u001b[39m_check_values_type()\n\u001b[0;32m-> 1710\u001b[0m \u001b[38;5;28;43mself\u001b[39;49m\u001b[38;5;241;43m.\u001b[39;49m\u001b[43m_check_values_features\u001b[49m\u001b[43m(\u001b[49m\u001b[43m)\u001b[49m\n\u001b[1;32m   1711\u001b[0m total_uploaded_size \u001b[38;5;241m=\u001b[39m \u001b[38;5;241m0\u001b[39m\n\u001b[1;32m   1712\u001b[0m total_dataset_nbytes \u001b[38;5;241m=\u001b[39m \u001b[38;5;241m0\u001b[39m\n",
      "File \u001b[0;32m~/works/llm-recipes-2/.venv/lib/python3.9/site-packages/datasets/dataset_dict.py:64\u001b[0m, in \u001b[0;36mDatasetDict._check_values_features\u001b[0;34m(self)\u001b[0m\n\u001b[1;32m     62\u001b[0m \u001b[38;5;28;01mfor\u001b[39;00m item_a, item_b \u001b[38;5;129;01min\u001b[39;00m \u001b[38;5;28mzip\u001b[39m(items[:\u001b[38;5;241m-\u001b[39m\u001b[38;5;241m1\u001b[39m], items[\u001b[38;5;241m1\u001b[39m:]):\n\u001b[1;32m     63\u001b[0m     \u001b[38;5;28;01mif\u001b[39;00m item_a[\u001b[38;5;241m1\u001b[39m]\u001b[38;5;241m.\u001b[39mfeatures \u001b[38;5;241m!=\u001b[39m item_b[\u001b[38;5;241m1\u001b[39m]\u001b[38;5;241m.\u001b[39mfeatures:\n\u001b[0;32m---> 64\u001b[0m         \u001b[38;5;28;01mraise\u001b[39;00m \u001b[38;5;167;01mValueError\u001b[39;00m(\n\u001b[1;32m     65\u001b[0m             \u001b[38;5;124mf\u001b[39m\u001b[38;5;124m\"\u001b[39m\u001b[38;5;124mAll datasets in `DatasetDict` should have the same features but features for \u001b[39m\u001b[38;5;124m'\u001b[39m\u001b[38;5;132;01m{\u001b[39;00mitem_a[\u001b[38;5;241m0\u001b[39m]\u001b[38;5;132;01m}\u001b[39;00m\u001b[38;5;124m'\u001b[39m\u001b[38;5;124m and \u001b[39m\u001b[38;5;124m'\u001b[39m\u001b[38;5;132;01m{\u001b[39;00mitem_b[\u001b[38;5;241m0\u001b[39m]\u001b[38;5;132;01m}\u001b[39;00m\u001b[38;5;124m'\u001b[39m\u001b[38;5;124m don\u001b[39m\u001b[38;5;124m'\u001b[39m\u001b[38;5;124mt match: \u001b[39m\u001b[38;5;132;01m{\u001b[39;00mitem_a[\u001b[38;5;241m1\u001b[39m]\u001b[38;5;241m.\u001b[39mfeatures\u001b[38;5;132;01m}\u001b[39;00m\u001b[38;5;124m != \u001b[39m\u001b[38;5;132;01m{\u001b[39;00mitem_b[\u001b[38;5;241m1\u001b[39m]\u001b[38;5;241m.\u001b[39mfeatures\u001b[38;5;132;01m}\u001b[39;00m\u001b[38;5;124m\"\u001b[39m\n\u001b[1;32m     66\u001b[0m         )\n",
      "\u001b[0;31mValueError\u001b[0m: All datasets in `DatasetDict` should have the same features but features for 'train' and 'validation' don't match: {'context': Value(dtype='string', id=None), 'question': Value(dtype='string', id=None), 'answers': {'text': [Value(dtype='string', id=None)], 'answer_start': [Value(dtype='int32', id=None)]}, 'answers_generated': Value(dtype='string', id=None)} != {'context': Value(dtype='string', id=None), 'question': Value(dtype='string', id=None), 'answers': Sequence(feature={'text': Value(dtype='string', id=None), 'answer_start': Value(dtype='int32', id=None)}, length=-1, id=None), 'answers_generated': Value(dtype='string', id=None)}"
     ]
    }
   ],
   "source": [
    "new_ds.push_to_hub(\"brimmann2/squad-v2-sampled4\")"
   ]
  },
  {
   "cell_type": "code",
   "execution_count": 60,
   "id": "f8f4a0b4",
   "metadata": {},
   "outputs": [],
   "source": [
    "sampled2_ds = load_dataset(\"brimmann2/squad-v2-sampled3\")"
   ]
  },
  {
   "cell_type": "code",
   "execution_count": 63,
   "id": "c82f27b3",
   "metadata": {},
   "outputs": [
    {
     "data": {
      "text/plain": [
       "DatasetDict({\n",
       "    train: Dataset({\n",
       "        features: ['gem_id', 'id', 'title', 'context', 'question', 'target', 'references', 'answers'],\n",
       "        num_rows: 4000\n",
       "    })\n",
       "    validation: Dataset({\n",
       "        features: ['gem_id', 'id', 'title', 'context', 'question', 'target', 'references', 'answers'],\n",
       "        num_rows: 400\n",
       "    })\n",
       "})"
      ]
     },
     "execution_count": 63,
     "metadata": {},
     "output_type": "execute_result"
    }
   ],
   "source": [
    "sampled2_ds"
   ]
  },
  {
   "cell_type": "code",
   "execution_count": 61,
   "id": "031e1ea3",
   "metadata": {},
   "outputs": [
    {
     "data": {
      "text/plain": [
       "{'gem_id': Value(dtype='string', id=None),\n",
       " 'id': Value(dtype='string', id=None),\n",
       " 'title': Value(dtype='string', id=None),\n",
       " 'context': Value(dtype='string', id=None),\n",
       " 'question': Value(dtype='string', id=None),\n",
       " 'target': Value(dtype='string', id=None),\n",
       " 'references': [Value(dtype='string', id=None)],\n",
       " 'answers': Sequence(feature={'text': Value(dtype='string', id=None), 'answer_start': Value(dtype='int32', id=None)}, length=-1, id=None)}"
      ]
     },
     "execution_count": 61,
     "metadata": {},
     "output_type": "execute_result"
    }
   ],
   "source": [
    "sampled2_ds[\"train\"].features"
   ]
  },
  {
   "cell_type": "code",
   "execution_count": 62,
   "id": "255d74a5",
   "metadata": {},
   "outputs": [
    {
     "data": {
      "text/plain": [
       "{'gem_id': Value(dtype='string', id=None),\n",
       " 'id': Value(dtype='string', id=None),\n",
       " 'title': Value(dtype='string', id=None),\n",
       " 'context': Value(dtype='string', id=None),\n",
       " 'question': Value(dtype='string', id=None),\n",
       " 'target': Value(dtype='string', id=None),\n",
       " 'references': [Value(dtype='string', id=None)],\n",
       " 'answers': Sequence(feature={'text': Value(dtype='string', id=None), 'answer_start': Value(dtype='int32', id=None)}, length=-1, id=None)}"
      ]
     },
     "execution_count": 62,
     "metadata": {},
     "output_type": "execute_result"
    }
   ],
   "source": [
    "sampled2_ds[\"validation\"].features"
   ]
  },
  {
   "cell_type": "code",
   "execution_count": 69,
   "id": "1e2e11eb",
   "metadata": {},
   "outputs": [],
   "source": [
    "new_new_ds = new_ds[\"train\"].remove_columns(\"answers\")"
   ]
  },
  {
   "cell_type": "code",
   "execution_count": 71,
   "id": "84fd7946",
   "metadata": {},
   "outputs": [],
   "source": [
    "new_new_new_ds = new_new_ds.add_column(\"answers\", sampled2_ds[\"train\"][\"answers\"])"
   ]
  },
  {
   "cell_type": "code",
   "execution_count": 72,
   "id": "2e0f0170",
   "metadata": {},
   "outputs": [
    {
     "data": {
      "text/plain": [
       "Dataset({\n",
       "    features: ['context', 'question', 'answers_generated', 'answers'],\n",
       "    num_rows: 4000\n",
       "})"
      ]
     },
     "execution_count": 72,
     "metadata": {},
     "output_type": "execute_result"
    }
   ],
   "source": [
    "new_new_new_ds"
   ]
  },
  {
   "cell_type": "code",
   "execution_count": 73,
   "id": "d955dce5",
   "metadata": {},
   "outputs": [],
   "source": [
    "new_new_ds_val = new_ds[\"validation\"].remove_columns(\"answers\")"
   ]
  },
  {
   "cell_type": "code",
   "execution_count": 75,
   "id": "847a5992",
   "metadata": {},
   "outputs": [
    {
     "data": {
      "text/plain": [
       "Dataset({\n",
       "    features: ['context', 'question', 'answers_generated'],\n",
       "    num_rows: 400\n",
       "})"
      ]
     },
     "execution_count": 75,
     "metadata": {},
     "output_type": "execute_result"
    }
   ],
   "source": [
    "new_new_ds_val"
   ]
  },
  {
   "cell_type": "code",
   "execution_count": 76,
   "id": "81d30a2d",
   "metadata": {},
   "outputs": [],
   "source": [
    "new_new_new_ds_val = new_new_ds_val.add_column(\"answers\", sampled2_ds[\"validation\"][\"answers\"])"
   ]
  },
  {
   "cell_type": "code",
   "execution_count": 77,
   "id": "f044ad2a",
   "metadata": {},
   "outputs": [
    {
     "data": {
      "text/plain": [
       "Dataset({\n",
       "    features: ['context', 'question', 'answers_generated', 'answers'],\n",
       "    num_rows: 400\n",
       "})"
      ]
     },
     "execution_count": 77,
     "metadata": {},
     "output_type": "execute_result"
    }
   ],
   "source": [
    "new_new_new_ds_val"
   ]
  },
  {
   "cell_type": "code",
   "execution_count": 66,
   "id": "36fbcb67",
   "metadata": {},
   "outputs": [
    {
     "data": {
      "text/plain": [
       "list"
      ]
     },
     "execution_count": 66,
     "metadata": {},
     "output_type": "execute_result"
    }
   ],
   "source": [
    "type(new_ds[\"validation\"][\"answers\"])"
   ]
  },
  {
   "cell_type": "code",
   "execution_count": 78,
   "id": "1b3a6e7d",
   "metadata": {},
   "outputs": [],
   "source": [
    "d = DatasetDict({\n",
    "    \"train\": new_new_new_ds,\n",
    "    \"validation\": new_new_new_ds_val\n",
    "})"
   ]
  },
  {
   "cell_type": "code",
   "execution_count": 80,
   "id": "47052ca0",
   "metadata": {},
   "outputs": [
    {
     "data": {
      "application/vnd.jupyter.widget-view+json": {
       "model_id": "3839adedaf284325856dbd068ceb3b6f",
       "version_major": 2,
       "version_minor": 0
      },
      "text/plain": [
       "Uploading the dataset shards:   0%|          | 0/1 [00:00<?, ?it/s]"
      ]
     },
     "metadata": {},
     "output_type": "display_data"
    },
    {
     "data": {
      "application/vnd.jupyter.widget-view+json": {
       "model_id": "b87aa21c5efe4f7b99abf604a4b2d878",
       "version_major": 2,
       "version_minor": 0
      },
      "text/plain": [
       "Creating parquet from Arrow format:   0%|          | 0/4 [00:00<?, ?ba/s]"
      ]
     },
     "metadata": {},
     "output_type": "display_data"
    },
    {
     "data": {
      "application/vnd.jupyter.widget-view+json": {
       "model_id": "06b9b5a9220d4bf186a89194a913c10d",
       "version_major": 2,
       "version_minor": 0
      },
      "text/plain": [
       "Processing Files (0 / 0): |          |  0.00B /  0.00B            "
      ]
     },
     "metadata": {},
     "output_type": "display_data"
    },
    {
     "data": {
      "application/vnd.jupyter.widget-view+json": {
       "model_id": "843b9983ba4f49a28718b149bbada7e6",
       "version_major": 2,
       "version_minor": 0
      },
      "text/plain": [
       "New Data Upload: |          |  0.00B /  0.00B            "
      ]
     },
     "metadata": {},
     "output_type": "display_data"
    },
    {
     "data": {
      "application/vnd.jupyter.widget-view+json": {
       "model_id": "19273bdc8734495c823fa53d0583af10",
       "version_major": 2,
       "version_minor": 0
      },
      "text/plain": [
       "Uploading the dataset shards:   0%|          | 0/1 [00:00<?, ?it/s]"
      ]
     },
     "metadata": {},
     "output_type": "display_data"
    },
    {
     "data": {
      "application/vnd.jupyter.widget-view+json": {
       "model_id": "0685c9216ab5412ba63a5fd35e8b5511",
       "version_major": 2,
       "version_minor": 0
      },
      "text/plain": [
       "Creating parquet from Arrow format:   0%|          | 0/1 [00:00<?, ?ba/s]"
      ]
     },
     "metadata": {},
     "output_type": "display_data"
    },
    {
     "data": {
      "application/vnd.jupyter.widget-view+json": {
       "model_id": "63365767feb545bc91058823be77acf1",
       "version_major": 2,
       "version_minor": 0
      },
      "text/plain": [
       "Processing Files (0 / 0): |          |  0.00B /  0.00B            "
      ]
     },
     "metadata": {},
     "output_type": "display_data"
    },
    {
     "data": {
      "application/vnd.jupyter.widget-view+json": {
       "model_id": "04f871e79a594e828136a464e1ed6f74",
       "version_major": 2,
       "version_minor": 0
      },
      "text/plain": [
       "New Data Upload: |          |  0.00B /  0.00B            "
      ]
     },
     "metadata": {},
     "output_type": "display_data"
    },
    {
     "data": {
      "text/plain": [
       "CommitInfo(commit_url='https://huggingface.co/datasets/brimmann2/squad-v2-sampled4/commit/f2107c48ba6d0e85e710b2411f65852b1a301bc5', commit_message='Upload dataset', commit_description='', oid='f2107c48ba6d0e85e710b2411f65852b1a301bc5', pr_url=None, repo_url=RepoUrl('https://huggingface.co/datasets/brimmann2/squad-v2-sampled4', endpoint='https://huggingface.co', repo_type='dataset', repo_id='brimmann2/squad-v2-sampled4'), pr_revision=None, pr_num=None)"
      ]
     },
     "execution_count": 80,
     "metadata": {},
     "output_type": "execute_result"
    }
   ],
   "source": [
    "d.push_to_hub(\"brimmann2/squad-v2-sampled4\")"
   ]
  }
 ],
 "metadata": {
  "kernelspec": {
   "display_name": ".venv",
   "language": "python",
   "name": "python3"
  },
  "language_info": {
   "codemirror_mode": {
    "name": "ipython",
    "version": 3
   },
   "file_extension": ".py",
   "mimetype": "text/x-python",
   "name": "python",
   "nbconvert_exporter": "python",
   "pygments_lexer": "ipython3",
   "version": "3.9.23"
  }
 },
 "nbformat": 4,
 "nbformat_minor": 5
}
