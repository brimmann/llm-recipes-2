{
 "cells": [
  {
   "cell_type": "code",
   "execution_count": 1,
   "id": "95417e6e",
   "metadata": {},
   "outputs": [],
   "source": [
    "from datasets import load_dataset, DatasetDict"
   ]
  },
  {
   "cell_type": "code",
   "execution_count": 2,
   "id": "42c4dbf9",
   "metadata": {},
   "outputs": [
    {
     "name": "stderr",
     "output_type": "stream",
     "text": [
      "Using the latest cached version of the module from /home/brimmann/.cache/huggingface/modules/datasets_modules/datasets/GEM--squad_v2/13af4f8baf72eab5de773cce096ca00be63c10441de58c7b629692125ab8a3ac (last modified on Tue Oct 14 16:58:22 2025) since it couldn't be found locally at GEM/squad_v2, or remotely on the Hugging Face Hub.\n"
     ]
    }
   ],
   "source": [
    "dataset = load_dataset(\"GEM/squad_v2\", split='train')"
   ]
  },
  {
   "cell_type": "code",
   "execution_count": 3,
   "id": "5a478b68",
   "metadata": {},
   "outputs": [],
   "source": [
    "shuffled_dataset = dataset.shuffle(seed=42)"
   ]
  },
  {
   "cell_type": "code",
   "execution_count": 4,
   "id": "6dfd8622",
   "metadata": {},
   "outputs": [
    {
     "data": {
      "application/vnd.jupyter.widget-view+json": {
       "model_id": "20e48e67aa3e4a97bd0241de3520bfe8",
       "version_major": 2,
       "version_minor": 0
      },
      "text/plain": [
       "Filter:   0%|          | 0/116397 [00:00<?, ? examples/s]"
      ]
     },
     "metadata": {},
     "output_type": "display_data"
    }
   ],
   "source": [
    "filtered_dataset = shuffled_dataset.filter(\n",
    "        lambda example: len(example['context'].split()) <= 200\n",
    ")"
   ]
  },
  {
   "cell_type": "code",
   "execution_count": 5,
   "id": "73e73b36",
   "metadata": {},
   "outputs": [],
   "source": [
    "filtered_dataset_train = filtered_dataset"
   ]
  },
  {
   "cell_type": "code",
   "execution_count": 6,
   "id": "f400e57d",
   "metadata": {},
   "outputs": [
    {
     "name": "stderr",
     "output_type": "stream",
     "text": [
      "Using the latest cached version of the module from /home/brimmann/.cache/huggingface/modules/datasets_modules/datasets/GEM--squad_v2/13af4f8baf72eab5de773cce096ca00be63c10441de58c7b629692125ab8a3ac (last modified on Tue Oct 14 16:58:22 2025) since it couldn't be found locally at GEM/squad_v2, or remotely on the Hugging Face Hub.\n"
     ]
    }
   ],
   "source": [
    "dataset_train = load_dataset(\"GEM/squad_v2\", split='validation')"
   ]
  },
  {
   "cell_type": "code",
   "execution_count": 7,
   "id": "7287eab3",
   "metadata": {},
   "outputs": [],
   "source": [
    "shuffled_dataset = dataset.shuffle(seed=42)"
   ]
  },
  {
   "cell_type": "code",
   "execution_count": 8,
   "id": "7a68d1a9",
   "metadata": {},
   "outputs": [],
   "source": [
    "filtered_dataset_validation = shuffled_dataset.filter(\n",
    "        lambda example: len(example['context'].split()) <= 200\n",
    ")"
   ]
  },
  {
   "cell_type": "code",
   "execution_count": 10,
   "id": "9dad6a4f",
   "metadata": {},
   "outputs": [],
   "source": [
    "squad_v2_sampled2_train = filtered_dataset_train.select(range(24000))"
   ]
  },
  {
   "cell_type": "code",
   "execution_count": 11,
   "id": "b1d0c16f",
   "metadata": {},
   "outputs": [],
   "source": [
    "squad_v2_sampled2_validation = filtered_dataset_validation.select(range(2400))"
   ]
  },
  {
   "cell_type": "code",
   "execution_count": 13,
   "id": "ecf7bcfa",
   "metadata": {},
   "outputs": [],
   "source": [
    "final_splits = DatasetDict({\n",
    "        'train': squad_v2_sampled2_train,\n",
    "        'validation': squad_v2_sampled2_validation,\n",
    "    })"
   ]
  },
  {
   "cell_type": "code",
   "execution_count": 15,
   "id": "bdcf070f",
   "metadata": {},
   "outputs": [
    {
     "data": {
      "application/vnd.jupyter.widget-view+json": {
       "model_id": "20bc8dae8a3748e08ea53194b7d65978",
       "version_major": 2,
       "version_minor": 0
      },
      "text/plain": [
       "VBox(children=(HTML(value='<center> <img\\nsrc=https://huggingface.co/front/assets/huggingface_logo-noborder.sv…"
      ]
     },
     "metadata": {},
     "output_type": "display_data"
    }
   ],
   "source": [
    "from huggingface_hub import notebook_login\n",
    "notebook_login()"
   ]
  },
  {
   "cell_type": "code",
   "execution_count": 16,
   "id": "47db78a1",
   "metadata": {},
   "outputs": [
    {
     "data": {
      "application/vnd.jupyter.widget-view+json": {
       "model_id": "17e17dbaeb064d4b9463d5c814092d5f",
       "version_major": 2,
       "version_minor": 0
      },
      "text/plain": [
       "Uploading the dataset shards:   0%|          | 0/1 [00:00<?, ?it/s]"
      ]
     },
     "metadata": {},
     "output_type": "display_data"
    },
    {
     "data": {
      "application/vnd.jupyter.widget-view+json": {
       "model_id": "71c061128b51403e9cf035e48ab35a20",
       "version_major": 2,
       "version_minor": 0
      },
      "text/plain": [
       "Creating parquet from Arrow format:   0%|          | 0/24 [00:00<?, ?ba/s]"
      ]
     },
     "metadata": {},
     "output_type": "display_data"
    },
    {
     "data": {
      "application/vnd.jupyter.widget-view+json": {
       "model_id": "6be1297db0f5485e82d37222530c951c",
       "version_major": 2,
       "version_minor": 0
      },
      "text/plain": [
       "Processing Files (0 / 0): |          |  0.00B /  0.00B            "
      ]
     },
     "metadata": {},
     "output_type": "display_data"
    },
    {
     "data": {
      "application/vnd.jupyter.widget-view+json": {
       "model_id": "0caa4a4e19494f9f9cfeb32e217ac520",
       "version_major": 2,
       "version_minor": 0
      },
      "text/plain": [
       "New Data Upload: |          |  0.00B /  0.00B            "
      ]
     },
     "metadata": {},
     "output_type": "display_data"
    },
    {
     "data": {
      "application/vnd.jupyter.widget-view+json": {
       "model_id": "01fa2de12445429fbe02d2ced4029f4d",
       "version_major": 2,
       "version_minor": 0
      },
      "text/plain": [
       "Uploading the dataset shards:   0%|          | 0/1 [00:00<?, ?it/s]"
      ]
     },
     "metadata": {},
     "output_type": "display_data"
    },
    {
     "data": {
      "application/vnd.jupyter.widget-view+json": {
       "model_id": "17c3967684444d44b5da868bd0a96e3f",
       "version_major": 2,
       "version_minor": 0
      },
      "text/plain": [
       "Creating parquet from Arrow format:   0%|          | 0/3 [00:00<?, ?ba/s]"
      ]
     },
     "metadata": {},
     "output_type": "display_data"
    },
    {
     "data": {
      "application/vnd.jupyter.widget-view+json": {
       "model_id": "0e833c613ff74a5fadada52b08b796ec",
       "version_major": 2,
       "version_minor": 0
      },
      "text/plain": [
       "Processing Files (0 / 0): |          |  0.00B /  0.00B            "
      ]
     },
     "metadata": {},
     "output_type": "display_data"
    },
    {
     "data": {
      "application/vnd.jupyter.widget-view+json": {
       "model_id": "488500fe8acd4e8b94b834cd601e2802",
       "version_major": 2,
       "version_minor": 0
      },
      "text/plain": [
       "New Data Upload: |          |  0.00B /  0.00B            "
      ]
     },
     "metadata": {},
     "output_type": "display_data"
    },
    {
     "data": {
      "text/plain": [
       "CommitInfo(commit_url='https://huggingface.co/datasets/brimmann2/squad-v2-sampled2/commit/53d17ffcf7df992557b56a4ec3beb9afa8dec6b0', commit_message='Upload dataset', commit_description='', oid='53d17ffcf7df992557b56a4ec3beb9afa8dec6b0', pr_url=None, repo_url=RepoUrl('https://huggingface.co/datasets/brimmann2/squad-v2-sampled2', endpoint='https://huggingface.co', repo_type='dataset', repo_id='brimmann2/squad-v2-sampled2'), pr_revision=None, pr_num=None)"
      ]
     },
     "execution_count": 16,
     "metadata": {},
     "output_type": "execute_result"
    }
   ],
   "source": [
    "final_splits.push_to_hub(\"brimmann2/squad-v2-sampled2\")"
   ]
  }
 ],
 "metadata": {
  "kernelspec": {
   "display_name": ".venv",
   "language": "python",
   "name": "python3"
  },
  "language_info": {
   "codemirror_mode": {
    "name": "ipython",
    "version": 3
   },
   "file_extension": ".py",
   "mimetype": "text/x-python",
   "name": "python",
   "nbconvert_exporter": "python",
   "pygments_lexer": "ipython3",
   "version": "3.9.23"
  }
 },
 "nbformat": 4,
 "nbformat_minor": 5
}
