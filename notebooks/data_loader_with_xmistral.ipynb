{
 "cells": [
  {
   "cell_type": "code",
   "execution_count": 1,
   "id": "94724d34",
   "metadata": {},
   "outputs": [],
   "source": [
    "from configs.datasets import dataset as DatasetConfig\n",
    "from configs.training import train_config as TrainConfig\n",
    "from configs.distillation import distillation_config as DistillationConfig\n",
    "from configs.fsdp import fsdp_config as FsdpConfig"
   ]
  },
  {
   "cell_type": "code",
   "execution_count": 2,
   "id": "f3dfc279",
   "metadata": {},
   "outputs": [],
   "source": [
    "dataset_config = DatasetConfig()\n",
    "train_config = TrainConfig()\n",
    "distill_config = DistillationConfig()\n",
    "fsdp_config = DistillationConfig()\n",
    "train_config.model_name = \"google/gemma-3-1b-it\"\n",
    "distill_config.model_name = \"Hannibal046/xrag-7b\"\n",
    "train_config.batch_size_training = 1\n",
    "train_config.num_workers_dataloader = 1\n",
    "dataset_config.file = \"data/loaders/squad-v2-sampled.py\""
   ]
  },
  {
   "cell_type": "code",
   "execution_count": 3,
   "id": "99436978",
   "metadata": {},
   "outputs": [
    {
     "name": "stdout",
     "output_type": "stream",
     "text": [
      "Using device: cuda\n"
     ]
    }
   ],
   "source": [
    "import torch\n",
    "model_name = \"Hannibal046/xrag-7b\"\n",
    "device = \"cuda\" if torch.cuda.is_available() else \"cpu\"\n",
    "print(f\"Using device: {device}\")"
   ]
  },
  {
   "cell_type": "code",
   "execution_count": 4,
   "id": "8fd6eb80",
   "metadata": {},
   "outputs": [],
   "source": [
    "from transformers import AutoTokenizer\n",
    "xmistral_tokenizer = AutoTokenizer.from_pretrained(model_name)"
   ]
  },
  {
   "cell_type": "code",
   "execution_count": 5,
   "id": "570d2f03",
   "metadata": {},
   "outputs": [
    {
     "name": "stdout",
     "output_type": "stream",
     "text": [
      "--> Training Set Length = 1000\n",
      "--> Validation Set Length = 250\n"
     ]
    }
   ],
   "source": [
    "from data.data_utils import get_dataloader\n",
    "student_train_dataloader, student_eval_dataloader = get_dataloader(dataset_config, train_config, xmistral_tokenizer, 0, distill_config)"
   ]
  },
  {
   "cell_type": "code",
   "execution_count": 7,
   "id": "ade858ea",
   "metadata": {},
   "outputs": [],
   "source": [
    "iter1 = iter(student_train_dataloader)"
   ]
  },
  {
   "cell_type": "code",
   "execution_count": 18,
   "id": "b1c888cf",
   "metadata": {},
   "outputs": [],
   "source": [
    "item = next(iter1)"
   ]
  },
  {
   "cell_type": "code",
   "execution_count": 22,
   "id": "b799306c",
   "metadata": {},
   "outputs": [
    {
     "data": {
      "text/plain": [
       "{'input_ids': tensor([[  733, 16289, 28793, 24316, 28747, 32001, 28725,   690,   835,  2825,\n",
       "         28747, 28792, 28748, 16289, 28793,   415,  2990,   302,  9143,   403,\n",
       "         16783, 23799,   356,  4117, 28705, 28740, 28787, 28725, 28705, 28740,\n",
       "         28787, 28750, 28750, 28725,   304,   403, 10806,  1987,  9143,  8897,\n",
       "         28723,   415,  1141,   403,  4648,   298,  9143,  3805,   356,  5353,\n",
       "         28705, 28750, 28750, 28725, 28705, 28740, 28787, 28774, 28783, 28723,\n",
       "           415,  2990, 28742, 28713,  4889,   403, 28705, 28740, 28750, 28725,\n",
       "         28734, 28734, 28734,   297, 28705, 28740, 28787, 28774, 28734, 28725,\n",
       "           304, 28705, 28750, 28770, 28725, 28734, 28734, 28734,   297, 28705,\n",
       "         28740, 28783, 28734, 28734, 28723,   415,  2990, 28742, 28713,  4889,\n",
       "           403, 28705, 28750, 28781, 28725, 28734, 28734, 28734,   297, 28705,\n",
       "         28740, 28783, 28740, 28734, 28725,   304, 28705, 28770, 28770, 28725,\n",
       "         28734, 28734, 28734,   297, 28705, 28740, 28783, 28750, 28734, 28723,\n",
       "           415,  2990, 28742, 28713,  4889,   403, 28705, 28781, 28734, 28725,\n",
       "         28734, 28734, 28734,   297, 28705, 28740, 28783, 28770, 28734, 28725,\n",
       "           304, 28705, 28782, 28781, 28725, 28734, 28734, 28734,   297, 28705,\n",
       "         28740, 28783, 28781, 28734, 28723,   415,  2990, 28742, 28713,  4889,\n",
       "           403, 28705, 28784, 28783, 28725, 28734, 28734, 28734,   297, 28705,\n",
       "         28740, 28783, 28782, 28734, 28725,   304, 28705, 28740, 28740, 28782,\n",
       "         28725, 28734, 28734, 28734,   297, 28705, 28740, 28783, 28784, 28734,\n",
       "         28723,   415,  2990, 28742, 28713,  4889,   403, 28705, 28740, 28787,\n",
       "         28783, 28725, 28734, 28734, 28734]]), 'attention_mask': tensor([[1, 1, 1, 1, 1, 1, 1, 1, 1, 1, 1, 1, 1, 1, 1, 1, 1, 1, 1, 1, 1, 1, 1, 1,\n",
       "         1, 1, 1, 1, 1, 1, 1, 1, 1, 1, 1, 1, 1, 1, 1, 1, 1, 1, 1, 1, 1, 1, 1, 1,\n",
       "         1, 1, 1, 1, 1, 1, 1, 1, 1, 1, 1, 1, 1, 1, 1, 1, 1, 1, 1, 1, 1, 1, 1, 1,\n",
       "         1, 1, 1, 1, 1, 1, 1, 1, 1, 1, 1, 1, 1, 1, 1, 1, 1, 1, 1, 1, 1, 1, 1, 1,\n",
       "         1, 1, 1, 1, 1, 1, 1, 1, 1, 1, 1, 1, 1, 1, 1, 1, 1, 1, 1, 1, 1, 1, 1, 1,\n",
       "         1, 1, 1, 1, 1, 1, 1, 1, 1, 1, 1, 1, 1, 1, 1, 1, 1, 1, 1, 1, 1, 1, 1, 1,\n",
       "         1, 1, 1, 1, 1, 1, 1, 1, 1, 1, 1, 1, 1, 1, 1, 1, 1, 1, 1, 1, 1, 1, 1, 1,\n",
       "         1, 1, 1, 1, 1, 1, 1, 1, 1, 1, 1, 1, 1, 1, 1, 1, 1, 1, 1, 1, 1, 1, 1, 1,\n",
       "         1, 1, 1, 1, 1, 1, 1, 1, 1, 1, 1, 1, 1, 1, 1, 1, 1, 1, 1, 1, 1, 1, 1]]), 'retrieval_embeds': tensor([[ 2.3594, -3.8438,  1.2344,  ...,  1.3203, -1.4453,  4.9688]]), 'labels': tensor([[ -100,  -100,  -100,  -100,  -100,  -100,  -100,  -100,  -100,  -100,\n",
       "          -100,  -100,  -100,  -100,  -100,   415,  2990,   302,  9143,   403,\n",
       "         16783, 23799,   356,  4117, 28705, 28740, 28787, 28725, 28705, 28740,\n",
       "         28787, 28750, 28750, 28725,   304,   403, 10806,  1987,  9143,  8897,\n",
       "         28723,   415,  1141,   403,  4648,   298,  9143,  3805,   356,  5353,\n",
       "         28705, 28750, 28750, 28725, 28705, 28740, 28787, 28774, 28783, 28723,\n",
       "           415,  2990, 28742, 28713,  4889,   403, 28705, 28740, 28750, 28725,\n",
       "         28734, 28734, 28734,   297, 28705, 28740, 28787, 28774, 28734, 28725,\n",
       "           304, 28705, 28750, 28770, 28725, 28734, 28734, 28734,   297, 28705,\n",
       "         28740, 28783, 28734, 28734, 28723,   415,  2990, 28742, 28713,  4889,\n",
       "           403, 28705, 28750, 28781, 28725, 28734, 28734, 28734,   297, 28705,\n",
       "         28740, 28783, 28740, 28734, 28725,   304, 28705, 28770, 28770, 28725,\n",
       "         28734, 28734, 28734,   297, 28705, 28740, 28783, 28750, 28734, 28723,\n",
       "           415,  2990, 28742, 28713,  4889,   403, 28705, 28781, 28734, 28725,\n",
       "         28734, 28734, 28734,   297, 28705, 28740, 28783, 28770, 28734, 28725,\n",
       "           304, 28705, 28782, 28781, 28725, 28734, 28734, 28734,   297, 28705,\n",
       "         28740, 28783, 28781, 28734, 28723,   415,  2990, 28742, 28713,  4889,\n",
       "           403, 28705, 28784, 28783, 28725, 28734, 28734, 28734,   297, 28705,\n",
       "         28740, 28783, 28782, 28734, 28725,   304, 28705, 28740, 28740, 28782,\n",
       "         28725, 28734, 28734, 28734,   297, 28705, 28740, 28783, 28784, 28734,\n",
       "         28723,   415,  2990, 28742, 28713,  4889,   403, 28705, 28740, 28787,\n",
       "         28783, 28725, 28734, 28734, 28734]])}"
      ]
     },
     "execution_count": 22,
     "metadata": {},
     "output_type": "execute_result"
    }
   ],
   "source": [
    "item"
   ]
  },
  {
   "cell_type": "code",
   "execution_count": 19,
   "id": "911db7f4",
   "metadata": {},
   "outputs": [
    {
     "data": {
      "text/plain": [
       "tensor([[  733, 16289, 28793, 24316, 28747, 32001, 28725,   690,   835,  2825,\n",
       "         28747, 28792, 28748, 16289, 28793,   415,  2990,   302,  9143,   403,\n",
       "         16783, 23799,   356,  4117, 28705, 28740, 28787, 28725, 28705, 28740,\n",
       "         28787, 28750, 28750, 28725,   304,   403, 10806,  1987,  9143,  8897,\n",
       "         28723,   415,  1141,   403,  4648,   298,  9143,  3805,   356,  5353,\n",
       "         28705, 28750, 28750, 28725, 28705, 28740, 28787, 28774, 28783, 28723,\n",
       "           415,  2990, 28742, 28713,  4889,   403, 28705, 28740, 28750, 28725,\n",
       "         28734, 28734, 28734,   297, 28705, 28740, 28787, 28774, 28734, 28725,\n",
       "           304, 28705, 28750, 28770, 28725, 28734, 28734, 28734,   297, 28705,\n",
       "         28740, 28783, 28734, 28734, 28723,   415,  2990, 28742, 28713,  4889,\n",
       "           403, 28705, 28750, 28781, 28725, 28734, 28734, 28734,   297, 28705,\n",
       "         28740, 28783, 28740, 28734, 28725,   304, 28705, 28770, 28770, 28725,\n",
       "         28734, 28734, 28734,   297, 28705, 28740, 28783, 28750, 28734, 28723,\n",
       "           415,  2990, 28742, 28713,  4889,   403, 28705, 28781, 28734, 28725,\n",
       "         28734, 28734, 28734,   297, 28705, 28740, 28783, 28770, 28734, 28725,\n",
       "           304, 28705, 28782, 28781, 28725, 28734, 28734, 28734,   297, 28705,\n",
       "         28740, 28783, 28781, 28734, 28723,   415,  2990, 28742, 28713,  4889,\n",
       "           403, 28705, 28784, 28783, 28725, 28734, 28734, 28734,   297, 28705,\n",
       "         28740, 28783, 28782, 28734, 28725,   304, 28705, 28740, 28740, 28782,\n",
       "         28725, 28734, 28734, 28734,   297, 28705, 28740, 28783, 28784, 28734,\n",
       "         28723,   415,  2990, 28742, 28713,  4889,   403, 28705, 28740, 28787,\n",
       "         28783, 28725, 28734, 28734, 28734]])"
      ]
     },
     "execution_count": 19,
     "metadata": {},
     "output_type": "execute_result"
    }
   ],
   "source": [
    "item[\"input_ids\"]"
   ]
  },
  {
   "cell_type": "code",
   "execution_count": 21,
   "id": "74d59492",
   "metadata": {},
   "outputs": [
    {
     "data": {
      "text/plain": [
       "\"[INST] Background:<xRAG>, which also means:[/INST] The city of Boston was officially incorporated on March 17, 1722, and was originally called Boston Town. The name was changed to Boston City on February 22, 1798. The city's population was 12,000 in 1790, and 23,000 in 1800. The city's population was 24,000 in 1810, and 33,000 in 1820. The city's population was 40,000 in 1830, and 54,000 in 1840. The city's population was 68,000 in 1850, and 115,000 in 1860. The city's population was 178,000\""
      ]
     },
     "execution_count": 21,
     "metadata": {},
     "output_type": "execute_result"
    }
   ],
   "source": [
    "xmistral_tokenizer.decode(item[\"input_ids\"][0])"
   ]
  },
  {
   "cell_type": "code",
   "execution_count": 13,
   "id": "88f816c4",
   "metadata": {},
   "outputs": [
    {
     "name": "stderr",
     "output_type": "stream",
     "text": [
      "/home/brimmann/works/llm-recipes-2/models/checkpoint_handler.py:7: DeprecationWarning: `torch.distributed._shard.checkpoint` will be deprecated, use `torch.distributed.checkpoint` instead\n",
      "  import torch.distributed._shard.checkpoint as dist_cp\n",
      "`torch_dtype` is deprecated! Use `dtype` instead!\n"
     ]
    },
    {
     "data": {
      "application/vnd.jupyter.widget-view+json": {
       "model_id": "c8f00add62ad4e94a8166a2fa0d4e955",
       "version_major": 2,
       "version_minor": 0
      },
      "text/plain": [
       "Loading checkpoint shards:   0%|          | 0/3 [00:00<?, ?it/s]"
      ]
     },
     "metadata": {},
     "output_type": "display_data"
    }
   ],
   "source": [
    "from transformers import AutoConfig\n",
    "from models.modeling_xmistral import XMistralForCausalLM\n",
    "\n",
    "config = AutoConfig.from_pretrained(model_name)\n",
    "MODEL_CLASS = eval(config.architectures[0])\n",
    "xmistral = MODEL_CLASS.from_pretrained(\n",
    "    model_name,\n",
    "    torch_dtype = torch.bfloat16,\n",
    "    low_cpu_mem_usage = True,\n",
    ").to(device)"
   ]
  },
  {
   "cell_type": "code",
   "execution_count": null,
   "id": "837d4900",
   "metadata": {},
   "outputs": [],
   "source": [
    "generated_output = xmistral.generate(\n",
    "        input_ids = input_ids,\n",
    "        do_sample=False,\n",
    "        max_new_tokens=20,\n",
    "        pad_token_id=llm_tokenizer.pad_token_id,\n",
    "        retrieval_embeds = relevant_embedding.unsqueeze(0),\n",
    "    )"
   ]
  }
 ],
 "metadata": {
  "kernelspec": {
   "display_name": ".venv",
   "language": "python",
   "name": "python3"
  },
  "language_info": {
   "codemirror_mode": {
    "name": "ipython",
    "version": 3
   },
   "file_extension": ".py",
   "mimetype": "text/x-python",
   "name": "python",
   "nbconvert_exporter": "python",
   "pygments_lexer": "ipython3",
   "version": "3.9.23"
  }
 },
 "nbformat": 4,
 "nbformat_minor": 5
}
